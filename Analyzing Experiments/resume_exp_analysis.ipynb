{
 "cells": [
  {
   "attachments": {},
   "cell_type": "markdown",
   "metadata": {},
   "source": [
    "## Resume Experiment Analysis\n",
    "Yuanjing Zhu"
   ]
  },
  {
   "cell_type": "code",
   "execution_count": 1,
   "metadata": {},
   "outputs": [],
   "source": [
    "import numpy as np\n",
    "import pandas as pd\n",
    "import matplotlib.pyplot as plt\n",
    "from scipy.stats import ttest_ind, chi2_contingency\n",
    "import statsmodels.api as sm\n",
    "import statsmodels.formula.api as smf\n",
    "import warnings\n",
    "warnings.filterwarnings('ignore')"
   ]
  },
  {
   "attachments": {},
   "cell_type": "markdown",
   "metadata": {},
   "source": [
    "### Exercise 1: check balance for gender, computer skills and years of experience"
   ]
  },
  {
   "cell_type": "code",
   "execution_count": 2,
   "metadata": {},
   "outputs": [
    {
     "data": {
      "text/html": [
       "<div>\n",
       "<style scoped>\n",
       "    .dataframe tbody tr th:only-of-type {\n",
       "        vertical-align: middle;\n",
       "    }\n",
       "\n",
       "    .dataframe tbody tr th {\n",
       "        vertical-align: top;\n",
       "    }\n",
       "\n",
       "    .dataframe thead th {\n",
       "        text-align: right;\n",
       "    }\n",
       "</style>\n",
       "<table border=\"1\" class=\"dataframe\">\n",
       "  <thead>\n",
       "    <tr style=\"text-align: right;\">\n",
       "      <th></th>\n",
       "      <th>education</th>\n",
       "      <th>ofjobs</th>\n",
       "      <th>yearsexp</th>\n",
       "      <th>computerskills</th>\n",
       "      <th>call</th>\n",
       "      <th>female</th>\n",
       "      <th>black</th>\n",
       "    </tr>\n",
       "  </thead>\n",
       "  <tbody>\n",
       "    <tr>\n",
       "      <th>0</th>\n",
       "      <td>4</td>\n",
       "      <td>2</td>\n",
       "      <td>6</td>\n",
       "      <td>1</td>\n",
       "      <td>0.0</td>\n",
       "      <td>1.0</td>\n",
       "      <td>0.0</td>\n",
       "    </tr>\n",
       "    <tr>\n",
       "      <th>1</th>\n",
       "      <td>3</td>\n",
       "      <td>3</td>\n",
       "      <td>6</td>\n",
       "      <td>1</td>\n",
       "      <td>0.0</td>\n",
       "      <td>1.0</td>\n",
       "      <td>0.0</td>\n",
       "    </tr>\n",
       "    <tr>\n",
       "      <th>2</th>\n",
       "      <td>4</td>\n",
       "      <td>1</td>\n",
       "      <td>6</td>\n",
       "      <td>1</td>\n",
       "      <td>0.0</td>\n",
       "      <td>1.0</td>\n",
       "      <td>1.0</td>\n",
       "    </tr>\n",
       "    <tr>\n",
       "      <th>3</th>\n",
       "      <td>3</td>\n",
       "      <td>4</td>\n",
       "      <td>6</td>\n",
       "      <td>1</td>\n",
       "      <td>0.0</td>\n",
       "      <td>1.0</td>\n",
       "      <td>1.0</td>\n",
       "    </tr>\n",
       "    <tr>\n",
       "      <th>4</th>\n",
       "      <td>3</td>\n",
       "      <td>3</td>\n",
       "      <td>22</td>\n",
       "      <td>1</td>\n",
       "      <td>0.0</td>\n",
       "      <td>1.0</td>\n",
       "      <td>0.0</td>\n",
       "    </tr>\n",
       "  </tbody>\n",
       "</table>\n",
       "</div>"
      ],
      "text/plain": [
       "   education  ofjobs  yearsexp  computerskills  call  female  black\n",
       "0          4       2         6               1   0.0     1.0    0.0\n",
       "1          3       3         6               1   0.0     1.0    0.0\n",
       "2          4       1         6               1   0.0     1.0    1.0\n",
       "3          3       4         6               1   0.0     1.0    1.0\n",
       "4          3       3        22               1   0.0     1.0    0.0"
      ]
     },
     "execution_count": 2,
     "metadata": {},
     "output_type": "execute_result"
    }
   ],
   "source": [
    "# load dataset\n",
    "df = pd.read_stata('https://github.com/nickeubank/MIDS_Data/blob/'\n",
    "                   'master/resume_experiment/resume_experiment.dta?raw=true')\n",
    "df.head()"
   ]
  },
  {
   "cell_type": "code",
   "execution_count": 18,
   "metadata": {},
   "outputs": [
    {
     "data": {
      "text/html": [
       "<div>\n",
       "<style scoped>\n",
       "    .dataframe tbody tr th:only-of-type {\n",
       "        vertical-align: middle;\n",
       "    }\n",
       "\n",
       "    .dataframe tbody tr th {\n",
       "        vertical-align: top;\n",
       "    }\n",
       "\n",
       "    .dataframe thead th {\n",
       "        text-align: right;\n",
       "    }\n",
       "</style>\n",
       "<table border=\"1\" class=\"dataframe\">\n",
       "  <thead>\n",
       "    <tr style=\"text-align: right;\">\n",
       "      <th></th>\n",
       "      <th>female</th>\n",
       "      <th>computerskills</th>\n",
       "      <th>yearsexp</th>\n",
       "    </tr>\n",
       "    <tr>\n",
       "      <th>black</th>\n",
       "      <th></th>\n",
       "      <th></th>\n",
       "      <th></th>\n",
       "    </tr>\n",
       "  </thead>\n",
       "  <tbody>\n",
       "    <tr>\n",
       "      <th>0.0</th>\n",
       "      <td>0.763860</td>\n",
       "      <td>0.808624</td>\n",
       "      <td>7.856263</td>\n",
       "    </tr>\n",
       "    <tr>\n",
       "      <th>1.0</th>\n",
       "      <td>0.774538</td>\n",
       "      <td>0.832444</td>\n",
       "      <td>7.829569</td>\n",
       "    </tr>\n",
       "  </tbody>\n",
       "</table>\n",
       "</div>"
      ],
      "text/plain": [
       "         female  computerskills  yearsexp\n",
       "black                                    \n",
       "0.0    0.763860        0.808624  7.856263\n",
       "1.0    0.774538        0.832444  7.829569"
      ]
     },
     "execution_count": 18,
     "metadata": {},
     "output_type": "execute_result"
    }
   ],
   "source": [
    "df.groupby('black')['female', 'computerskills','yearsexp'].mean()"
   ]
  },
  {
   "cell_type": "code",
   "execution_count": 3,
   "metadata": {},
   "outputs": [
    {
     "name": "stdout",
     "output_type": "stream",
     "text": [
      "Differences in means for female: 0.01\n",
      "Differences in means for computerskills: 0.02\n",
      "Differences in means for yearsexp: -0.03\n"
     ]
    }
   ],
   "source": [
    "df_black = df.loc[df['black']==1, ['female', 'computerskills','yearsexp']]\n",
    "df_white = df.loc[df['black']==0, ['female', 'computerskills','yearsexp']]\n",
    "\n",
    "# calculate the difference in means\n",
    "for i in range(3):\n",
    "    feature = df_black.columns[i]\n",
    "    mean_diff = df_black.iloc[:,i].mean() - df_white.iloc[:,i].mean()\n",
    "    print(f'Differences in means for {feature}: {mean_diff:.2f}')"
   ]
  },
  {
   "cell_type": "code",
   "execution_count": 4,
   "metadata": {},
   "outputs": [
    {
     "name": "stdout",
     "output_type": "stream",
     "text": [
      "P-value for female: 0.38\n",
      "P-value for computerskills: 0.03\n",
      "P-value for yearsexp: 0.85\n"
     ]
    }
   ],
   "source": [
    "# test for statistic significance\n",
    "_, p = ttest_ind(df_black, df_white, axis=0)\n",
    "for i in range(3):\n",
    "    print(f'P-value for {df_black.columns[i]}: {p[i]:.2f}')"
   ]
  },
  {
   "attachments": {},
   "cell_type": "markdown",
   "metadata": {},
   "source": [
    "The differences in means across treatment arms for female, computerskills, and years of experience were small, with a value of 0.01, 0.02, and -0.03 respectively.\\\n",
    "The p-value for female was 0.38, indicating that there was no statistically significant difference in the proportion of female applicants between the two race groups. The p-value for computerskills was 0.03, suggesting that there was a statistically significant difference in the average computer skills of applicants between the two race groups. The p-value for yearsexp was 0.85, indicating that there was no statistically significant difference in the average years of experience between the two race groups.\\\n",
    "Overall, gender looks balanced across race groups while computer skills may be slightly imbalanced."
   ]
  },
  {
   "attachments": {},
   "cell_type": "markdown",
   "metadata": {},
   "source": [
    "### Exercise 2: check balance for education"
   ]
  },
  {
   "cell_type": "code",
   "execution_count": 5,
   "metadata": {},
   "outputs": [],
   "source": [
    "df['education_cat'] = df['education'].map({0: 'Education not reported', \\\n",
    "                                           1: 'High school dropout', \\\n",
    "                                           2: 'High school graduate', \\\n",
    "                                           3: 'Some college', \\\n",
    "                                           4: 'College graduate or higher'})"
   ]
  },
  {
   "cell_type": "code",
   "execution_count": 6,
   "metadata": {},
   "outputs": [
    {
     "name": "stdout",
     "output_type": "stream",
     "text": [
      "P-value for chi-square test: 0.49\n"
     ]
    }
   ],
   "source": [
    "# chi-square test\n",
    "cross_tab = pd.crosstab(df['education_cat'], df['black'])\n",
    "_, p, _, _ = chi2_contingency(cross_tab)\n",
    "print(f\"P-value for chi-square test: {p:.2f}\")"
   ]
  },
  {
   "attachments": {},
   "cell_type": "markdown",
   "metadata": {},
   "source": [
    "Based on the result of chi-squared test, education is balanced across the black and white groups (p-value = 0.49)."
   ]
  },
  {
   "attachments": {},
   "cell_type": "markdown",
   "metadata": {},
   "source": [
    "### Exercise 3"
   ]
  },
  {
   "attachments": {},
   "cell_type": "markdown",
   "metadata": {},
   "source": [
    "Based on t test and chi-square test, there is no significant statistical difference between black and non-black resumes in terms of gender, years of experience, and education. However, there is slight imbalance in computer skills between the two groups. \\\n",
    "It is important to check the balance of the covariates in the experiment. If the covariates are not balanced, the results of the experiment may not be biased. In this case, the imbalance in computer skills between the two groups may affect the validity of the experiment. For instance, the slightly higher computer skills of black applicants may lead to a higher probability of getting a callback, which can confound the effect of race on callback rate. Therefore, the imbalance of covariates could be a threat to internal validity because it could lead to ineffective randomization process as well as biased estimates of the treatment effect. On the other hand, if the two groups are not balanced, it may be a threat to external validity since the results of the study might not generalize to other populations with different distributions of these characteristics."
   ]
  },
  {
   "attachments": {},
   "cell_type": "markdown",
   "metadata": {},
   "source": [
    "### Exercise 4: effect of black-sounding name on callback rate"
   ]
  },
  {
   "cell_type": "code",
   "execution_count": 7,
   "metadata": {},
   "outputs": [
    {
     "name": "stdout",
     "output_type": "stream",
     "text": [
      "P-value for t-test: 0.00\n",
      "Reject null hypothesis, there is a difference in call back rate\n"
     ]
    }
   ],
   "source": [
    "black_call = df.loc[df['black']==1, 'call']\n",
    "white_call = df.loc[df['black']==0, 'call']\n",
    "\n",
    "# perform ttest\n",
    "_, p = ttest_ind(black_call, white_call)\n",
    "# print results\n",
    "print(f\"P-value for t-test: {p:.2f}\")\n",
    "if p < 0.05:\n",
    "    print('Reject null hypothesis, there is a difference in call back rate')\n",
    "else:\n",
    "    print('Fail to reject null hypothesis, there is no difference in call back rate')"
   ]
  },
  {
   "cell_type": "code",
   "execution_count": 15,
   "metadata": {},
   "outputs": [
    {
     "name": "stdout",
     "output_type": "stream",
     "text": [
      "Percentage of black resumes that received a call:     6.45%\n",
      "Percentage of white resumes that received a call:     9.65%\n",
      "Percentage points difference in resumes that received a call:     -3.20%\n",
      "Percentage terms of resumes that received a call:     -33.19%\n"
     ]
    }
   ],
   "source": [
    "# percentage and percentage points\n",
    "black_call_rate = black_call.mean()*100\n",
    "white_call_rate = white_call.mean()*100\n",
    "percentage_diff = (black_call_rate-white_call_rate) \n",
    "percentage_change = percentage_diff / white_call_rate * 100\n",
    "print(f\"Percentage of black resumes that received a call: \\\n",
    "    {black_call_rate:.2f}%\")\n",
    "print(f\"Percentage of white resumes that received a call: \\\n",
    "    {white_call_rate:.2f}%\")\n",
    "print(f\"Percentage points difference in resumes that received a call: \\\n",
    "    {percentage_diff:.2f}%\")\n",
    "print(f\"Percentage terms of resumes that received a call: \\\n",
    "    {percentage_change:.2f}%\")"
   ]
  },
  {
   "attachments": {},
   "cell_type": "markdown",
   "metadata": {},
   "source": [
    "The two-sample t-test suggests that there is statistically significant difference in the callback rate betweeen black and non-black applicants (p-value < 0.05). The callback rate of black applicants is 6.45% while the callback rate of non-black applicants is 9.65%. Therefore, having a Black-sounding name (as opposed to a White-sounding name) on a resume reduced the probability of receiving a call for an interview by 3.20 percentage points. This means that the percentage of black resumes that received a call was 33.19% lower than the percentage of white resumes that received a call."
   ]
  },
  {
   "attachments": {},
   "cell_type": "markdown",
   "metadata": {},
   "source": [
    "### Exercise 5: use a linear probability model to estimate the differential likelihood of being called back by applicant race"
   ]
  },
  {
   "cell_type": "code",
   "execution_count": 9,
   "metadata": {},
   "outputs": [
    {
     "data": {
      "text/html": [
       "<table class=\"simpletable\">\n",
       "<caption>OLS Regression Results</caption>\n",
       "<tr>\n",
       "  <th>Dep. Variable:</th>          <td>call</td>       <th>  R-squared:         </th> <td>   0.003</td>\n",
       "</tr>\n",
       "<tr>\n",
       "  <th>Model:</th>                   <td>OLS</td>       <th>  Adj. R-squared:    </th> <td>   0.003</td>\n",
       "</tr>\n",
       "<tr>\n",
       "  <th>Method:</th>             <td>Least Squares</td>  <th>  F-statistic:       </th> <td>   16.92</td>\n",
       "</tr>\n",
       "<tr>\n",
       "  <th>Date:</th>             <td>Mon, 20 Feb 2023</td> <th>  Prob (F-statistic):</th> <td>3.96e-05</td>\n",
       "</tr>\n",
       "<tr>\n",
       "  <th>Time:</th>                 <td>21:09:03</td>     <th>  Log-Likelihood:    </th> <td> -562.24</td>\n",
       "</tr>\n",
       "<tr>\n",
       "  <th>No. Observations:</th>      <td>  4870</td>      <th>  AIC:               </th> <td>   1128.</td>\n",
       "</tr>\n",
       "<tr>\n",
       "  <th>Df Residuals:</th>          <td>  4868</td>      <th>  BIC:               </th> <td>   1141.</td>\n",
       "</tr>\n",
       "<tr>\n",
       "  <th>Df Model:</th>              <td>     1</td>      <th>                     </th>     <td> </td>   \n",
       "</tr>\n",
       "<tr>\n",
       "  <th>Covariance Type:</th>         <td>HC3</td>       <th>                     </th>     <td> </td>   \n",
       "</tr>\n",
       "</table>\n",
       "<table class=\"simpletable\">\n",
       "<tr>\n",
       "      <td></td>         <th>coef</th>     <th>std err</th>      <th>t</th>      <th>P>|t|</th>  <th>[0.025</th>    <th>0.975]</th>  \n",
       "</tr>\n",
       "<tr>\n",
       "  <th>Intercept</th> <td>    0.0965</td> <td>    0.006</td> <td>   16.121</td> <td> 0.000</td> <td>    0.085</td> <td>    0.108</td>\n",
       "</tr>\n",
       "<tr>\n",
       "  <th>black</th>     <td>   -0.0320</td> <td>    0.008</td> <td>   -4.114</td> <td> 0.000</td> <td>   -0.047</td> <td>   -0.017</td>\n",
       "</tr>\n",
       "</table>\n",
       "<table class=\"simpletable\">\n",
       "<tr>\n",
       "  <th>Omnibus:</th>       <td>2969.205</td> <th>  Durbin-Watson:     </th> <td>   1.440</td> \n",
       "</tr>\n",
       "<tr>\n",
       "  <th>Prob(Omnibus):</th>  <td> 0.000</td>  <th>  Jarque-Bera (JB):  </th> <td>18927.068</td>\n",
       "</tr>\n",
       "<tr>\n",
       "  <th>Skew:</th>           <td> 3.068</td>  <th>  Prob(JB):          </th> <td>    0.00</td> \n",
       "</tr>\n",
       "<tr>\n",
       "  <th>Kurtosis:</th>       <td>10.458</td>  <th>  Cond. No.          </th> <td>    2.62</td> \n",
       "</tr>\n",
       "</table><br/><br/>Notes:<br/>[1] Standard Errors are heteroscedasticity robust (HC3)"
      ],
      "text/plain": [
       "<class 'statsmodels.iolib.summary.Summary'>\n",
       "\"\"\"\n",
       "                            OLS Regression Results                            \n",
       "==============================================================================\n",
       "Dep. Variable:                   call   R-squared:                       0.003\n",
       "Model:                            OLS   Adj. R-squared:                  0.003\n",
       "Method:                 Least Squares   F-statistic:                     16.92\n",
       "Date:                Mon, 20 Feb 2023   Prob (F-statistic):           3.96e-05\n",
       "Time:                        21:09:03   Log-Likelihood:                -562.24\n",
       "No. Observations:                4870   AIC:                             1128.\n",
       "Df Residuals:                    4868   BIC:                             1141.\n",
       "Df Model:                           1                                         \n",
       "Covariance Type:                  HC3                                         \n",
       "==============================================================================\n",
       "                 coef    std err          t      P>|t|      [0.025      0.975]\n",
       "------------------------------------------------------------------------------\n",
       "Intercept      0.0965      0.006     16.121      0.000       0.085       0.108\n",
       "black         -0.0320      0.008     -4.114      0.000      -0.047      -0.017\n",
       "==============================================================================\n",
       "Omnibus:                     2969.205   Durbin-Watson:                   1.440\n",
       "Prob(Omnibus):                  0.000   Jarque-Bera (JB):            18927.068\n",
       "Skew:                           3.068   Prob(JB):                         0.00\n",
       "Kurtosis:                      10.458   Cond. No.                         2.62\n",
       "==============================================================================\n",
       "\n",
       "Notes:\n",
       "[1] Standard Errors are heteroscedasticity robust (HC3)\n",
       "\"\"\""
      ]
     },
     "execution_count": 9,
     "metadata": {},
     "output_type": "execute_result"
    }
   ],
   "source": [
    "model_5 = smf.ols(\"call ~ black\", df).fit()\n",
    "model_5.get_robustcov_results(cov_type=\"HC3\").summary()"
   ]
  },
  {
   "cell_type": "code",
   "execution_count": 10,
   "metadata": {},
   "outputs": [
    {
     "name": "stdout",
     "output_type": "stream",
     "text": [
      "Coefficient of black is: -0.03\n"
     ]
    }
   ],
   "source": [
    "print(f\"Coefficient of black is: {model_5.params['black']:.2f}\")"
   ]
  },
  {
   "attachments": {},
   "cell_type": "markdown",
   "metadata": {},
   "source": [
    "The linear regression model shows that having a Black-sounding name (as opposed to a White-sounding name) is associated with a statistically significant decrease in the likelihood of being called back. Holding all other variables constant, a Black applicant is about 3% less likely to receive a call back compared to a White applicant. "
   ]
  },
  {
   "attachments": {},
   "cell_type": "markdown",
   "metadata": {},
   "source": [
    "### Exercise 6: Add in education, yearsexp, female, and computerskills"
   ]
  },
  {
   "cell_type": "code",
   "execution_count": 11,
   "metadata": {},
   "outputs": [
    {
     "data": {
      "text/html": [
       "<table class=\"simpletable\">\n",
       "<caption>OLS Regression Results</caption>\n",
       "<tr>\n",
       "  <th>Dep. Variable:</th>          <td>call</td>       <th>  R-squared:         </th> <td>   0.008</td>\n",
       "</tr>\n",
       "<tr>\n",
       "  <th>Model:</th>                   <td>OLS</td>       <th>  Adj. R-squared:    </th> <td>   0.006</td>\n",
       "</tr>\n",
       "<tr>\n",
       "  <th>Method:</th>             <td>Least Squares</td>  <th>  F-statistic:       </th> <td>   4.350</td>\n",
       "</tr>\n",
       "<tr>\n",
       "  <th>Date:</th>             <td>Mon, 20 Feb 2023</td> <th>  Prob (F-statistic):</th> <td>3.04e-05</td>\n",
       "</tr>\n",
       "<tr>\n",
       "  <th>Time:</th>                 <td>21:09:03</td>     <th>  Log-Likelihood:    </th> <td> -551.02</td>\n",
       "</tr>\n",
       "<tr>\n",
       "  <th>No. Observations:</th>      <td>  4870</td>      <th>  AIC:               </th> <td>   1120.</td>\n",
       "</tr>\n",
       "<tr>\n",
       "  <th>Df Residuals:</th>          <td>  4861</td>      <th>  BIC:               </th> <td>   1178.</td>\n",
       "</tr>\n",
       "<tr>\n",
       "  <th>Df Model:</th>              <td>     8</td>      <th>                     </th>     <td> </td>   \n",
       "</tr>\n",
       "<tr>\n",
       "  <th>Covariance Type:</th>         <td>HC3</td>       <th>                     </th>     <td> </td>   \n",
       "</tr>\n",
       "</table>\n",
       "<table class=\"simpletable\">\n",
       "<tr>\n",
       "          <td></td>             <th>coef</th>     <th>std err</th>      <th>t</th>      <th>P>|t|</th>  <th>[0.025</th>    <th>0.975]</th>  \n",
       "</tr>\n",
       "<tr>\n",
       "  <th>Intercept</th>         <td>    0.0821</td> <td>    0.040</td> <td>    2.053</td> <td> 0.040</td> <td>    0.004</td> <td>    0.160</td>\n",
       "</tr>\n",
       "<tr>\n",
       "  <th>C(education)[T.1]</th> <td>   -0.0017</td> <td>    0.057</td> <td>   -0.030</td> <td> 0.976</td> <td>   -0.113</td> <td>    0.110</td>\n",
       "</tr>\n",
       "<tr>\n",
       "  <th>C(education)[T.2]</th> <td>-8.953e-05</td> <td>    0.042</td> <td>   -0.002</td> <td> 0.998</td> <td>   -0.082</td> <td>    0.082</td>\n",
       "</tr>\n",
       "<tr>\n",
       "  <th>C(education)[T.3]</th> <td>   -0.0025</td> <td>    0.039</td> <td>   -0.065</td> <td> 0.948</td> <td>   -0.079</td> <td>    0.074</td>\n",
       "</tr>\n",
       "<tr>\n",
       "  <th>C(education)[T.4]</th> <td>   -0.0047</td> <td>    0.038</td> <td>   -0.124</td> <td> 0.901</td> <td>   -0.080</td> <td>    0.070</td>\n",
       "</tr>\n",
       "<tr>\n",
       "  <th>black</th>             <td>   -0.0316</td> <td>    0.008</td> <td>   -4.076</td> <td> 0.000</td> <td>   -0.047</td> <td>   -0.016</td>\n",
       "</tr>\n",
       "<tr>\n",
       "  <th>yearsexp</th>          <td>    0.0032</td> <td>    0.001</td> <td>    3.665</td> <td> 0.000</td> <td>    0.001</td> <td>    0.005</td>\n",
       "</tr>\n",
       "<tr>\n",
       "  <th>female</th>            <td>    0.0112</td> <td>    0.010</td> <td>    1.165</td> <td> 0.244</td> <td>   -0.008</td> <td>    0.030</td>\n",
       "</tr>\n",
       "<tr>\n",
       "  <th>computerskills</th>    <td>   -0.0186</td> <td>    0.011</td> <td>   -1.616</td> <td> 0.106</td> <td>   -0.041</td> <td>    0.004</td>\n",
       "</tr>\n",
       "</table>\n",
       "<table class=\"simpletable\">\n",
       "<tr>\n",
       "  <th>Omnibus:</th>       <td>2950.646</td> <th>  Durbin-Watson:     </th> <td>   1.448</td> \n",
       "</tr>\n",
       "<tr>\n",
       "  <th>Prob(Omnibus):</th>  <td> 0.000</td>  <th>  Jarque-Bera (JB):  </th> <td>18631.250</td>\n",
       "</tr>\n",
       "<tr>\n",
       "  <th>Skew:</th>           <td> 3.047</td>  <th>  Prob(JB):          </th> <td>    0.00</td> \n",
       "</tr>\n",
       "<tr>\n",
       "  <th>Kurtosis:</th>       <td>10.395</td>  <th>  Cond. No.          </th> <td>    225.</td> \n",
       "</tr>\n",
       "</table><br/><br/>Notes:<br/>[1] Standard Errors are heteroscedasticity robust (HC3)"
      ],
      "text/plain": [
       "<class 'statsmodels.iolib.summary.Summary'>\n",
       "\"\"\"\n",
       "                            OLS Regression Results                            \n",
       "==============================================================================\n",
       "Dep. Variable:                   call   R-squared:                       0.008\n",
       "Model:                            OLS   Adj. R-squared:                  0.006\n",
       "Method:                 Least Squares   F-statistic:                     4.350\n",
       "Date:                Mon, 20 Feb 2023   Prob (F-statistic):           3.04e-05\n",
       "Time:                        21:09:03   Log-Likelihood:                -551.02\n",
       "No. Observations:                4870   AIC:                             1120.\n",
       "Df Residuals:                    4861   BIC:                             1178.\n",
       "Df Model:                           8                                         \n",
       "Covariance Type:                  HC3                                         \n",
       "=====================================================================================\n",
       "                        coef    std err          t      P>|t|      [0.025      0.975]\n",
       "-------------------------------------------------------------------------------------\n",
       "Intercept             0.0821      0.040      2.053      0.040       0.004       0.160\n",
       "C(education)[T.1]    -0.0017      0.057     -0.030      0.976      -0.113       0.110\n",
       "C(education)[T.2] -8.953e-05      0.042     -0.002      0.998      -0.082       0.082\n",
       "C(education)[T.3]    -0.0025      0.039     -0.065      0.948      -0.079       0.074\n",
       "C(education)[T.4]    -0.0047      0.038     -0.124      0.901      -0.080       0.070\n",
       "black                -0.0316      0.008     -4.076      0.000      -0.047      -0.016\n",
       "yearsexp              0.0032      0.001      3.665      0.000       0.001       0.005\n",
       "female                0.0112      0.010      1.165      0.244      -0.008       0.030\n",
       "computerskills       -0.0186      0.011     -1.616      0.106      -0.041       0.004\n",
       "==============================================================================\n",
       "Omnibus:                     2950.646   Durbin-Watson:                   1.448\n",
       "Prob(Omnibus):                  0.000   Jarque-Bera (JB):            18631.250\n",
       "Skew:                           3.047   Prob(JB):                         0.00\n",
       "Kurtosis:                      10.395   Cond. No.                         225.\n",
       "==============================================================================\n",
       "\n",
       "Notes:\n",
       "[1] Standard Errors are heteroscedasticity robust (HC3)\n",
       "\"\"\""
      ]
     },
     "execution_count": 11,
     "metadata": {},
     "output_type": "execute_result"
    }
   ],
   "source": [
    "model_6=smf.ols(\"call~black + C(education) + yearsexp \"\n",
    "                \"+ female + computerskills\",df).fit()\n",
    "model_6.get_robustcov_results(cov_type=\"HC3\").summary()"
   ]
  },
  {
   "attachments": {},
   "cell_type": "markdown",
   "metadata": {},
   "source": [
    "Compared with the last mode, $R^2$ increased from 0.003 to 0.008 after adding other variables, indicating the model is improved. Among the 5 variables, only black and years of experience are statistically significant. Holding all other variables constant, a Black applicant is about 3% less likely to receive a call back compared to a White applicant, which is similar to the result in exercise 5. On the other hand, holding all other variables constant, a one year increase in years of experience is associated with a 0.3% increase in the likelihood of being called back."
   ]
  },
  {
   "attachments": {},
   "cell_type": "markdown",
   "metadata": {},
   "source": [
    "### Exercise 7: racial discrimination among applicants who do not have a college degree"
   ]
  },
  {
   "cell_type": "code",
   "execution_count": 12,
   "metadata": {},
   "outputs": [
    {
     "data": {
      "text/html": [
       "<table class=\"simpletable\">\n",
       "<caption>OLS Regression Results</caption>\n",
       "<tr>\n",
       "  <th>Dep. Variable:</th>          <td>call</td>       <th>  R-squared:         </th> <td>   0.008</td>\n",
       "</tr>\n",
       "<tr>\n",
       "  <th>Model:</th>                   <td>OLS</td>       <th>  Adj. R-squared:    </th> <td>   0.006</td>\n",
       "</tr>\n",
       "<tr>\n",
       "  <th>Method:</th>             <td>Least Squares</td>  <th>  F-statistic:       </th> <td>   3.952</td>\n",
       "</tr>\n",
       "<tr>\n",
       "  <th>Date:</th>             <td>Mon, 20 Feb 2023</td> <th>  Prob (F-statistic):</th> <td>4.93e-05</td>\n",
       "</tr>\n",
       "<tr>\n",
       "  <th>Time:</th>                 <td>21:09:03</td>     <th>  Log-Likelihood:    </th> <td> -550.76</td>\n",
       "</tr>\n",
       "<tr>\n",
       "  <th>No. Observations:</th>      <td>  4870</td>      <th>  AIC:               </th> <td>   1122.</td>\n",
       "</tr>\n",
       "<tr>\n",
       "  <th>Df Residuals:</th>          <td>  4860</td>      <th>  BIC:               </th> <td>   1186.</td>\n",
       "</tr>\n",
       "<tr>\n",
       "  <th>Df Model:</th>              <td>     9</td>      <th>                     </th>     <td> </td>   \n",
       "</tr>\n",
       "<tr>\n",
       "  <th>Covariance Type:</th>         <td>HC3</td>       <th>                     </th>     <td> </td>   \n",
       "</tr>\n",
       "</table>\n",
       "<table class=\"simpletable\">\n",
       "<tr>\n",
       "                     <td></td>                       <th>coef</th>     <th>std err</th>      <th>t</th>      <th>P>|t|</th>  <th>[0.025</th>    <th>0.975]</th>  \n",
       "</tr>\n",
       "<tr>\n",
       "  <th>Intercept</th>                              <td>    0.0875</td> <td>    0.040</td> <td>    2.176</td> <td> 0.030</td> <td>    0.009</td> <td>    0.166</td>\n",
       "</tr>\n",
       "<tr>\n",
       "  <th>C(black)[T.1.0]</th>                        <td>   -0.0405</td> <td>    0.015</td> <td>   -2.736</td> <td> 0.006</td> <td>   -0.070</td> <td>   -0.011</td>\n",
       "</tr>\n",
       "<tr>\n",
       "  <th>C(college_degree)[T.1]</th>                 <td>   -0.0060</td> <td>    0.019</td> <td>   -0.307</td> <td> 0.759</td> <td>   -0.044</td> <td>    0.032</td>\n",
       "</tr>\n",
       "<tr>\n",
       "  <th>C(education)[T.1]</th>                      <td>   -0.0023</td> <td>    0.057</td> <td>   -0.040</td> <td> 0.968</td> <td>   -0.114</td> <td>    0.110</td>\n",
       "</tr>\n",
       "<tr>\n",
       "  <th>C(education)[T.2]</th>                      <td>   -0.0012</td> <td>    0.042</td> <td>   -0.030</td> <td> 0.976</td> <td>   -0.083</td> <td>    0.081</td>\n",
       "</tr>\n",
       "<tr>\n",
       "  <th>C(education)[T.3]</th>                      <td>   -0.0036</td> <td>    0.039</td> <td>   -0.092</td> <td> 0.927</td> <td>   -0.080</td> <td>    0.073</td>\n",
       "</tr>\n",
       "<tr>\n",
       "  <th>C(education)[T.4]</th>                      <td>   -0.0060</td> <td>    0.019</td> <td>   -0.307</td> <td> 0.759</td> <td>   -0.044</td> <td>    0.032</td>\n",
       "</tr>\n",
       "<tr>\n",
       "  <th>C(female)[T.1.0]</th>                       <td>    0.0112</td> <td>    0.010</td> <td>    1.157</td> <td> 0.247</td> <td>   -0.008</td> <td>    0.030</td>\n",
       "</tr>\n",
       "<tr>\n",
       "  <th>C(black)[T.1.0]:C(college_degree)[T.1]</th> <td>    0.0123</td> <td>    0.017</td> <td>    0.710</td> <td> 0.478</td> <td>   -0.022</td> <td>    0.046</td>\n",
       "</tr>\n",
       "<tr>\n",
       "  <th>yearsexp</th>                               <td>    0.0032</td> <td>    0.001</td> <td>    3.672</td> <td> 0.000</td> <td>    0.001</td> <td>    0.005</td>\n",
       "</tr>\n",
       "<tr>\n",
       "  <th>computerskills</th>                         <td>   -0.0186</td> <td>    0.011</td> <td>   -1.618</td> <td> 0.106</td> <td>   -0.041</td> <td>    0.004</td>\n",
       "</tr>\n",
       "</table>\n",
       "<table class=\"simpletable\">\n",
       "<tr>\n",
       "  <th>Omnibus:</th>       <td>2950.182</td> <th>  Durbin-Watson:     </th> <td>   1.448</td> \n",
       "</tr>\n",
       "<tr>\n",
       "  <th>Prob(Omnibus):</th>  <td> 0.000</td>  <th>  Jarque-Bera (JB):  </th> <td>18623.859</td>\n",
       "</tr>\n",
       "<tr>\n",
       "  <th>Skew:</th>           <td> 3.046</td>  <th>  Prob(JB):          </th> <td>    0.00</td> \n",
       "</tr>\n",
       "<tr>\n",
       "  <th>Kurtosis:</th>       <td>10.393</td>  <th>  Cond. No.          </th> <td>4.97e+17</td> \n",
       "</tr>\n",
       "</table><br/><br/>Notes:<br/>[1] Standard Errors are heteroscedasticity robust (HC3)<br/>[2] The smallest eigenvalue is 1.76e-30. This might indicate that there are<br/>strong multicollinearity problems or that the design matrix is singular."
      ],
      "text/plain": [
       "<class 'statsmodels.iolib.summary.Summary'>\n",
       "\"\"\"\n",
       "                            OLS Regression Results                            \n",
       "==============================================================================\n",
       "Dep. Variable:                   call   R-squared:                       0.008\n",
       "Model:                            OLS   Adj. R-squared:                  0.006\n",
       "Method:                 Least Squares   F-statistic:                     3.952\n",
       "Date:                Mon, 20 Feb 2023   Prob (F-statistic):           4.93e-05\n",
       "Time:                        21:09:03   Log-Likelihood:                -550.76\n",
       "No. Observations:                4870   AIC:                             1122.\n",
       "Df Residuals:                    4860   BIC:                             1186.\n",
       "Df Model:                           9                                         \n",
       "Covariance Type:                  HC3                                         \n",
       "==========================================================================================================\n",
       "                                             coef    std err          t      P>|t|      [0.025      0.975]\n",
       "----------------------------------------------------------------------------------------------------------\n",
       "Intercept                                  0.0875      0.040      2.176      0.030       0.009       0.166\n",
       "C(black)[T.1.0]                           -0.0405      0.015     -2.736      0.006      -0.070      -0.011\n",
       "C(college_degree)[T.1]                    -0.0060      0.019     -0.307      0.759      -0.044       0.032\n",
       "C(education)[T.1]                         -0.0023      0.057     -0.040      0.968      -0.114       0.110\n",
       "C(education)[T.2]                         -0.0012      0.042     -0.030      0.976      -0.083       0.081\n",
       "C(education)[T.3]                         -0.0036      0.039     -0.092      0.927      -0.080       0.073\n",
       "C(education)[T.4]                         -0.0060      0.019     -0.307      0.759      -0.044       0.032\n",
       "C(female)[T.1.0]                           0.0112      0.010      1.157      0.247      -0.008       0.030\n",
       "C(black)[T.1.0]:C(college_degree)[T.1]     0.0123      0.017      0.710      0.478      -0.022       0.046\n",
       "yearsexp                                   0.0032      0.001      3.672      0.000       0.001       0.005\n",
       "computerskills                            -0.0186      0.011     -1.618      0.106      -0.041       0.004\n",
       "==============================================================================\n",
       "Omnibus:                     2950.182   Durbin-Watson:                   1.448\n",
       "Prob(Omnibus):                  0.000   Jarque-Bera (JB):            18623.859\n",
       "Skew:                           3.046   Prob(JB):                         0.00\n",
       "Kurtosis:                      10.393   Cond. No.                     4.97e+17\n",
       "==============================================================================\n",
       "\n",
       "Notes:\n",
       "[1] Standard Errors are heteroscedasticity robust (HC3)\n",
       "[2] The smallest eigenvalue is 1.76e-30. This might indicate that there are\n",
       "strong multicollinearity problems or that the design matrix is singular.\n",
       "\"\"\""
      ]
     },
     "execution_count": 12,
     "metadata": {},
     "output_type": "execute_result"
    }
   ],
   "source": [
    "df['college_degree'] = np.where (df['education'] >= 4, 1, 0)\n",
    "model = smf.ols(\"call ~ C(black) + C(college_degree) + C(black):C(college_degree)\"\n",
    "                \"+ C(education) + yearsexp + C(female) + computerskills\", df).fit()\n",
    "model.get_robustcov_results(cov_type=\"HC3\").summary()"
   ]
  },
  {
   "attachments": {},
   "cell_type": "markdown",
   "metadata": {},
   "source": [
    "The coefficient of black, colloge degree, and the interaction term between black and college degree is -0.0405, -0.006, and 0.0123 respectively. \\\n",
    "For those who do not have college degree, having a black-souding name will have 4.5% lower callback rate than having a white-sounding name. \\\n",
    "For those who have college degree, having a black-souding name will have 2.82% lower callback rate than having a white-sounding name ($-0.0405 + 0.0123 = -0.0282$) \\\n",
    "Therefore, **there are more racial discrimination among applicants who do not have a college degree**. \\\n",
    "The difference in percent point of having a black name on college degree is 1.68% ($0.045-0.0282 = 0.0168$). The percentage term is 37% ($0.0168/0.045 = 0.037$).\\\n",
    "However, the p-value of the interaction term suggests that this difference is not statistically significant, indicating that we cannot rule out the possibility that this difference occurred by chance."
   ]
  },
  {
   "attachments": {},
   "cell_type": "markdown",
   "metadata": {},
   "source": [
    "Note: the feature \"college_degree\" is generated from the feature \"education\". Including both might cause multicollinearity problem."
   ]
  },
  {
   "attachments": {},
   "cell_type": "markdown",
   "metadata": {},
   "source": [
    "### Exercise 8: is the penalty for having a Black-sounding name greater for Black men or Black women?"
   ]
  },
  {
   "cell_type": "code",
   "execution_count": 13,
   "metadata": {},
   "outputs": [
    {
     "data": {
      "text/html": [
       "<table class=\"simpletable\">\n",
       "<caption>OLS Regression Results</caption>\n",
       "<tr>\n",
       "  <th>Dep. Variable:</th>          <td>call</td>       <th>  R-squared:         </th> <td>   0.008</td>\n",
       "</tr>\n",
       "<tr>\n",
       "  <th>Model:</th>                   <td>OLS</td>       <th>  Adj. R-squared:    </th> <td>   0.006</td>\n",
       "</tr>\n",
       "<tr>\n",
       "  <th>Method:</th>             <td>Least Squares</td>  <th>  F-statistic:       </th> <td>   3.866</td>\n",
       "</tr>\n",
       "<tr>\n",
       "  <th>Date:</th>             <td>Mon, 20 Feb 2023</td> <th>  Prob (F-statistic):</th> <td>6.76e-05</td>\n",
       "</tr>\n",
       "<tr>\n",
       "  <th>Time:</th>                 <td>21:09:03</td>     <th>  Log-Likelihood:    </th> <td> -551.00</td>\n",
       "</tr>\n",
       "<tr>\n",
       "  <th>No. Observations:</th>      <td>  4870</td>      <th>  AIC:               </th> <td>   1122.</td>\n",
       "</tr>\n",
       "<tr>\n",
       "  <th>Df Residuals:</th>          <td>  4860</td>      <th>  BIC:               </th> <td>   1187.</td>\n",
       "</tr>\n",
       "<tr>\n",
       "  <th>Df Model:</th>              <td>     9</td>      <th>                     </th>     <td> </td>   \n",
       "</tr>\n",
       "<tr>\n",
       "  <th>Covariance Type:</th>         <td>HC3</td>       <th>                     </th>     <td> </td>   \n",
       "</tr>\n",
       "</table>\n",
       "<table class=\"simpletable\">\n",
       "<tr>\n",
       "                  <td></td>                    <th>coef</th>     <th>std err</th>      <th>t</th>      <th>P>|t|</th>  <th>[0.025</th>    <th>0.975]</th>  \n",
       "</tr>\n",
       "<tr>\n",
       "  <th>Intercept</th>                        <td>    0.0807</td> <td>    0.040</td> <td>    1.996</td> <td> 0.046</td> <td>    0.001</td> <td>    0.160</td>\n",
       "</tr>\n",
       "<tr>\n",
       "  <th>C(black)[T.1.0]</th>                  <td>   -0.0287</td> <td>    0.016</td> <td>   -1.840</td> <td> 0.066</td> <td>   -0.059</td> <td>    0.002</td>\n",
       "</tr>\n",
       "<tr>\n",
       "  <th>C(female)[T.1.0]</th>                 <td>    0.0131</td> <td>    0.014</td> <td>    0.919</td> <td> 0.358</td> <td>   -0.015</td> <td>    0.041</td>\n",
       "</tr>\n",
       "<tr>\n",
       "  <th>C(education)[T.1]</th>                <td>   -0.0021</td> <td>    0.057</td> <td>   -0.037</td> <td> 0.971</td> <td>   -0.114</td> <td>    0.110</td>\n",
       "</tr>\n",
       "<tr>\n",
       "  <th>C(education)[T.2]</th>                <td>   -0.0001</td> <td>    0.042</td> <td>   -0.003</td> <td> 0.998</td> <td>   -0.082</td> <td>    0.082</td>\n",
       "</tr>\n",
       "<tr>\n",
       "  <th>C(education)[T.3]</th>                <td>   -0.0026</td> <td>    0.039</td> <td>   -0.066</td> <td> 0.947</td> <td>   -0.079</td> <td>    0.074</td>\n",
       "</tr>\n",
       "<tr>\n",
       "  <th>C(education)[T.4]</th>                <td>   -0.0048</td> <td>    0.038</td> <td>   -0.125</td> <td> 0.900</td> <td>   -0.080</td> <td>    0.070</td>\n",
       "</tr>\n",
       "<tr>\n",
       "  <th>C(black)[T.1.0]:C(female)[T.1.0]</th> <td>   -0.0038</td> <td>    0.018</td> <td>   -0.213</td> <td> 0.831</td> <td>   -0.039</td> <td>    0.031</td>\n",
       "</tr>\n",
       "<tr>\n",
       "  <th>yearsexp</th>                         <td>    0.0032</td> <td>    0.001</td> <td>    3.668</td> <td> 0.000</td> <td>    0.001</td> <td>    0.005</td>\n",
       "</tr>\n",
       "<tr>\n",
       "  <th>computerskills</th>                   <td>   -0.0186</td> <td>    0.011</td> <td>   -1.618</td> <td> 0.106</td> <td>   -0.041</td> <td>    0.004</td>\n",
       "</tr>\n",
       "</table>\n",
       "<table class=\"simpletable\">\n",
       "<tr>\n",
       "  <th>Omnibus:</th>       <td>2950.616</td> <th>  Durbin-Watson:     </th> <td>   1.448</td> \n",
       "</tr>\n",
       "<tr>\n",
       "  <th>Prob(Omnibus):</th>  <td> 0.000</td>  <th>  Jarque-Bera (JB):  </th> <td>18630.964</td>\n",
       "</tr>\n",
       "<tr>\n",
       "  <th>Skew:</th>           <td> 3.047</td>  <th>  Prob(JB):          </th> <td>    0.00</td> \n",
       "</tr>\n",
       "<tr>\n",
       "  <th>Kurtosis:</th>       <td>10.395</td>  <th>  Cond. No.          </th> <td>    226.</td> \n",
       "</tr>\n",
       "</table><br/><br/>Notes:<br/>[1] Standard Errors are heteroscedasticity robust (HC3)"
      ],
      "text/plain": [
       "<class 'statsmodels.iolib.summary.Summary'>\n",
       "\"\"\"\n",
       "                            OLS Regression Results                            \n",
       "==============================================================================\n",
       "Dep. Variable:                   call   R-squared:                       0.008\n",
       "Model:                            OLS   Adj. R-squared:                  0.006\n",
       "Method:                 Least Squares   F-statistic:                     3.866\n",
       "Date:                Mon, 20 Feb 2023   Prob (F-statistic):           6.76e-05\n",
       "Time:                        21:09:03   Log-Likelihood:                -551.00\n",
       "No. Observations:                4870   AIC:                             1122.\n",
       "Df Residuals:                    4860   BIC:                             1187.\n",
       "Df Model:                           9                                         \n",
       "Covariance Type:                  HC3                                         \n",
       "====================================================================================================\n",
       "                                       coef    std err          t      P>|t|      [0.025      0.975]\n",
       "----------------------------------------------------------------------------------------------------\n",
       "Intercept                            0.0807      0.040      1.996      0.046       0.001       0.160\n",
       "C(black)[T.1.0]                     -0.0287      0.016     -1.840      0.066      -0.059       0.002\n",
       "C(female)[T.1.0]                     0.0131      0.014      0.919      0.358      -0.015       0.041\n",
       "C(education)[T.1]                   -0.0021      0.057     -0.037      0.971      -0.114       0.110\n",
       "C(education)[T.2]                   -0.0001      0.042     -0.003      0.998      -0.082       0.082\n",
       "C(education)[T.3]                   -0.0026      0.039     -0.066      0.947      -0.079       0.074\n",
       "C(education)[T.4]                   -0.0048      0.038     -0.125      0.900      -0.080       0.070\n",
       "C(black)[T.1.0]:C(female)[T.1.0]    -0.0038      0.018     -0.213      0.831      -0.039       0.031\n",
       "yearsexp                             0.0032      0.001      3.668      0.000       0.001       0.005\n",
       "computerskills                      -0.0186      0.011     -1.618      0.106      -0.041       0.004\n",
       "==============================================================================\n",
       "Omnibus:                     2950.616   Durbin-Watson:                   1.448\n",
       "Prob(Omnibus):                  0.000   Jarque-Bera (JB):            18630.964\n",
       "Skew:                           3.047   Prob(JB):                         0.00\n",
       "Kurtosis:                      10.395   Cond. No.                         226.\n",
       "==============================================================================\n",
       "\n",
       "Notes:\n",
       "[1] Standard Errors are heteroscedasticity robust (HC3)\n",
       "\"\"\""
      ]
     },
     "execution_count": 13,
     "metadata": {},
     "output_type": "execute_result"
    }
   ],
   "source": [
    "model = smf.ols(\"call ~ C(black) + C(female) + C(black):C(female) + \"\n",
    "                \"C(education) + yearsexp + computerskills\", df).fit()\n",
    "model.get_robustcov_results(cov_type=\"HC3\").summary()"
   ]
  },
  {
   "attachments": {},
   "cell_type": "markdown",
   "metadata": {},
   "source": [
    "The coefficient of black, female, and the interaction term between black and female is -0.0287, 0.0131, and -0.0038 respectively. \\\n",
    "For male, having a black-souding name will have 2.87% lower callback rate than having a white-sounding name. \\\n",
    "For female, having a black-souding name will have 3.25% lower callback rate than having a white-sounding name ($-0.0287 + -0.0038 = -0.0325$) \\\n",
    "Therefore, **having a black-sounding name has more penalty among female applicants**. \\\n",
    "However, the p-value of the interaction term suggests that this difference is not statistically significant, indicating that we cannot rule out the possibility that this difference occurred by chance."
   ]
  },
  {
   "attachments": {},
   "cell_type": "markdown",
   "metadata": {},
   "source": [
    "### Exercise 9"
   ]
  },
  {
   "cell_type": "code",
   "execution_count": 14,
   "metadata": {},
   "outputs": [
    {
     "name": "stdout",
     "output_type": "stream",
     "text": [
      "Percentage of college degrees in our dataset:     71.95%\n",
      "Percentage of college degrees in our black dataset:     72.28%\n"
     ]
    }
   ],
   "source": [
    "college_share = df['college_degree'].mean()\n",
    "print(f\"Percentage of college degrees in our dataset: \\\n",
    "    {college_share*100:.2f}%\")\n",
    "\n",
    "black = df[df['black'] == 1]\n",
    "black_college_share = (black['college_degree']).mean()\n",
    "print(f\"Percentage of college degrees in our black dataset: \\\n",
    "    {black_college_share*100:.2f}%\")"
   ]
  },
  {
   "attachments": {},
   "cell_type": "markdown",
   "metadata": {},
   "source": [
    "According to [US Census Bureau](https://www.census.gov/newsroom/press-releases/2022/educational-attainment.html), the percentage of adults age 25 and older with a bachelor’s degree or higher for the Black population is 28.1% in 2021."
   ]
  },
  {
   "attachments": {},
   "cell_type": "markdown",
   "metadata": {},
   "source": [
    "### Exercise 10"
   ]
  },
  {
   "attachments": {},
   "cell_type": "markdown",
   "metadata": {},
   "source": [
    "Given that the percentage of college degrees in the dataset is 71.95%, and the percentage of college degrees in our black dataset is 72.28%, it is likely that the experiment is not representative of the general population. The share of Black adult Americans who have college degrees is 28.1%, which is significantly lower than the percentage of college degrees in the dataset. This means that the ATE estimated from this experiment may not necessarily generalize to the experience of the average Black American who does not have a college degree. Since the average Black American is less likely to have a college degree than the applicants in this experiment, the ATE estimated from this experiment may overestimate the effect of having a college degree on the outcome of interest for the average Black American."
   ]
  },
  {
   "attachments": {},
   "cell_type": "markdown",
   "metadata": {},
   "source": [
    "### Exercise 11"
   ]
  },
  {
   "attachments": {},
   "cell_type": "markdown",
   "metadata": {},
   "source": [
    "Internal validity is about whether a study has accurately measured a causal effect in the context being studied. It is not related to how conclusions from the study can be generalized to other contexts. Therefore, the internal validity of this study is not affected by the fact that the study is not representative of the general population. \\\n",
    "However, the sample imbalance of computer skills may affect the internal validity of the study. If the imbalance in computer skills between the two groups is not random, it may lead to ineffective randomization process as well as biased estimates of the treatment effect."
   ]
  },
  {
   "attachments": {},
   "cell_type": "markdown",
   "metadata": {},
   "source": [
    "### Exercise 12"
   ]
  },
  {
   "attachments": {},
   "cell_type": "markdown",
   "metadata": {},
   "source": [
    "External validity refers to the extent to which the findings from a study can be generalized to other populations, settings, and times. The answer to Exercise 10 suggests that the study's external validity may be limited. The fact that the percentage of college degrees in the dataset is much higher than the percentage of average Black Americans with college degrees suggests that the study sample may not be representative of the overall population, and the ATE estimated from this experiment may not necessarily generalize to the experience of the average Black American who does not have a college degree. Therefore, the external validity of this study is limited."
   ]
  }
 ],
 "metadata": {
  "kernelspec": {
   "display_name": "base",
   "language": "python",
   "name": "python3"
  },
  "language_info": {
   "codemirror_mode": {
    "name": "ipython",
    "version": 3
   },
   "file_extension": ".py",
   "mimetype": "text/x-python",
   "name": "python",
   "nbconvert_exporter": "python",
   "pygments_lexer": "ipython3",
   "version": "3.10.6"
  },
  "orig_nbformat": 4,
  "vscode": {
   "interpreter": {
    "hash": "caa79e79b13b4a24ed1e40b8fd425b38aacc1b8fb3707c3bea2d025878df32c5"
   }
  }
 },
 "nbformat": 4,
 "nbformat_minor": 2
}

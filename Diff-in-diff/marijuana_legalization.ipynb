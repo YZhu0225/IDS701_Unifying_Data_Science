{
 "cells": [
  {
   "attachments": {},
   "cell_type": "markdown",
   "metadata": {},
   "source": [
    "# Marijuana Legalization and Violent Crime\n",
    "Yuanjing Zhu & Emmanuel Ruhamyankaka"
   ]
  },
  {
   "cell_type": "code",
   "execution_count": 1,
   "metadata": {},
   "outputs": [],
   "source": [
    "import numpy as np\n",
    "import pandas as pd\n",
    "import warnings \n",
    "warnings.filterwarnings('ignore')\n",
    "import matplotlib.pyplot as plt\n",
    "%config InlineBackend.figure_format = 'retina'"
   ]
  },
  {
   "attachments": {},
   "cell_type": "markdown",
   "metadata": {},
   "source": [
    "### Exercise 1\n",
    "Load the dataset"
   ]
  },
  {
   "cell_type": "code",
   "execution_count": 2,
   "metadata": {},
   "outputs": [
    {
     "data": {
      "text/html": [
       "<div>\n",
       "<style scoped>\n",
       "    .dataframe tbody tr th:only-of-type {\n",
       "        vertical-align: middle;\n",
       "    }\n",
       "\n",
       "    .dataframe tbody tr th {\n",
       "        vertical-align: top;\n",
       "    }\n",
       "\n",
       "    .dataframe thead th {\n",
       "        text-align: right;\n",
       "    }\n",
       "</style>\n",
       "<table border=\"1\" class=\"dataframe\">\n",
       "  <thead>\n",
       "    <tr style=\"text-align: right;\">\n",
       "      <th></th>\n",
       "      <th>YEAR</th>\n",
       "      <th>COUNTY</th>\n",
       "      <th>VIOLENT</th>\n",
       "      <th>F_DRUGOFF</th>\n",
       "      <th>total_population</th>\n",
       "    </tr>\n",
       "  </thead>\n",
       "  <tbody>\n",
       "    <tr>\n",
       "      <th>0</th>\n",
       "      <td>1980</td>\n",
       "      <td>Alameda County</td>\n",
       "      <td>4504</td>\n",
       "      <td>3569</td>\n",
       "      <td>1105379.0</td>\n",
       "    </tr>\n",
       "    <tr>\n",
       "      <th>1</th>\n",
       "      <td>1981</td>\n",
       "      <td>Alameda County</td>\n",
       "      <td>4699</td>\n",
       "      <td>3926</td>\n",
       "      <td>1122759.3</td>\n",
       "    </tr>\n",
       "    <tr>\n",
       "      <th>2</th>\n",
       "      <td>1982</td>\n",
       "      <td>Alameda County</td>\n",
       "      <td>4389</td>\n",
       "      <td>4436</td>\n",
       "      <td>1140139.6</td>\n",
       "    </tr>\n",
       "    <tr>\n",
       "      <th>3</th>\n",
       "      <td>1983</td>\n",
       "      <td>Alameda County</td>\n",
       "      <td>4500</td>\n",
       "      <td>5086</td>\n",
       "      <td>1157519.9</td>\n",
       "    </tr>\n",
       "    <tr>\n",
       "      <th>4</th>\n",
       "      <td>1984</td>\n",
       "      <td>Alameda County</td>\n",
       "      <td>3714</td>\n",
       "      <td>5878</td>\n",
       "      <td>1174900.2</td>\n",
       "    </tr>\n",
       "  </tbody>\n",
       "</table>\n",
       "</div>"
      ],
      "text/plain": [
       "   YEAR          COUNTY  VIOLENT  F_DRUGOFF  total_population\n",
       "0  1980  Alameda County     4504       3569         1105379.0\n",
       "1  1981  Alameda County     4699       3926         1122759.3\n",
       "2  1982  Alameda County     4389       4436         1140139.6\n",
       "3  1983  Alameda County     4500       5086         1157519.9\n",
       "4  1984  Alameda County     3714       5878         1174900.2"
      ]
     },
     "execution_count": 2,
     "metadata": {},
     "output_type": "execute_result"
    }
   ],
   "source": [
    "df = pd.read_csv(\"https://github.com/nickeubank/MIDS_Data/\"\n",
    "                 \"blob/master/UDS_arrest_data.csv?raw=true\")\n",
    "df.head()"
   ]
  },
  {
   "cell_type": "code",
   "execution_count": 3,
   "metadata": {},
   "outputs": [
    {
     "name": "stdout",
     "output_type": "stream",
     "text": [
      "Time period: 1980 - 2018\n"
     ]
    }
   ],
   "source": [
    "print(f\"Time period: {df['YEAR'].min()} - {df['YEAR'].max()}\")"
   ]
  },
  {
   "attachments": {},
   "cell_type": "markdown",
   "metadata": {},
   "source": [
    "- A single row represent a county in California in a given year.\n",
    "- The entities being tracked are counties in California.\n",
    "- The time period is from 1980 to 2018."
   ]
  },
  {
   "attachments": {},
   "cell_type": "markdown",
   "metadata": {},
   "source": [
    "### Exercise 2"
   ]
  },
  {
   "attachments": {},
   "cell_type": "markdown",
   "metadata": {},
   "source": [
    "Calculate each county’s average drug arrest rate for the period from 2007-2009. "
   ]
  },
  {
   "cell_type": "code",
   "execution_count": 12,
   "metadata": {},
   "outputs": [
    {
     "data": {
      "text/html": [
       "<div>\n",
       "<style scoped>\n",
       "    .dataframe tbody tr th:only-of-type {\n",
       "        vertical-align: middle;\n",
       "    }\n",
       "\n",
       "    .dataframe tbody tr th {\n",
       "        vertical-align: top;\n",
       "    }\n",
       "\n",
       "    .dataframe thead th {\n",
       "        text-align: right;\n",
       "    }\n",
       "</style>\n",
       "<table border=\"1\" class=\"dataframe\">\n",
       "  <thead>\n",
       "    <tr style=\"text-align: right;\">\n",
       "      <th></th>\n",
       "      <th>drug arrest rate</th>\n",
       "    </tr>\n",
       "    <tr>\n",
       "      <th>COUNTY</th>\n",
       "      <th></th>\n",
       "    </tr>\n",
       "  </thead>\n",
       "  <tbody>\n",
       "    <tr>\n",
       "      <th>San Francisco County</th>\n",
       "      <td>873.961738</td>\n",
       "    </tr>\n",
       "    <tr>\n",
       "      <th>Mendocino County</th>\n",
       "      <td>599.799767</td>\n",
       "    </tr>\n",
       "    <tr>\n",
       "      <th>Tehama County</th>\n",
       "      <td>585.300555</td>\n",
       "    </tr>\n",
       "    <tr>\n",
       "      <th>Humboldt County</th>\n",
       "      <td>499.572904</td>\n",
       "    </tr>\n",
       "    <tr>\n",
       "      <th>Plumas County</th>\n",
       "      <td>492.429787</td>\n",
       "    </tr>\n",
       "  </tbody>\n",
       "</table>\n",
       "</div>"
      ],
      "text/plain": [
       "                      drug arrest rate\n",
       "COUNTY                                \n",
       "San Francisco County        873.961738\n",
       "Mendocino County            599.799767\n",
       "Tehama County               585.300555\n",
       "Humboldt County             499.572904\n",
       "Plumas County               492.429787"
      ]
     },
     "execution_count": 12,
     "metadata": {},
     "output_type": "execute_result"
    }
   ],
   "source": [
    "df_2007_2009 = df.loc[df.loc[:,'YEAR'].isin([2007, 2008, 2009]), :]\n",
    "df_2007_2009.loc[:,'drug arrest rate'] = df_2007_2009.loc[:,'F_DRUGOFF'] \\\n",
    "    / (df_2007_2009.loc[:,'total_population']/100000)\n",
    "avg_drug_arrest_rate = df_2007_2009.groupby('COUNTY')['drug arrest rate'].mean()\\\n",
    "    .sort_values(ascending=False).to_frame()\n",
    "avg_drug_arrest_rate.head()"
   ]
  },
  {
   "attachments": {},
   "cell_type": "markdown",
   "metadata": {},
   "source": [
    "Calculate the median value across counties"
   ]
  },
  {
   "cell_type": "code",
   "execution_count": 13,
   "metadata": {},
   "outputs": [
    {
     "name": "stdout",
     "output_type": "stream",
     "text": [
      "The median value of average durg arrest rate across the counties is: 0.30%\n"
     ]
    }
   ],
   "source": [
    "median_avg_ = avg_drug_arrest_rate.median().values[0]\n",
    "print(f\"The median value of average durg arrest rate across the counties is:\\\n",
    "      {median_avg_/100000*100:.2f}%\")"
   ]
  },
  {
   "attachments": {},
   "cell_type": "markdown",
   "metadata": {},
   "source": [
    "Create an indicator called treated for counties with above-median average drug arrest rates during this period."
   ]
  },
  {
   "cell_type": "code",
   "execution_count": 14,
   "metadata": {},
   "outputs": [
    {
     "data": {
      "text/html": [
       "<div>\n",
       "<style scoped>\n",
       "    .dataframe tbody tr th:only-of-type {\n",
       "        vertical-align: middle;\n",
       "    }\n",
       "\n",
       "    .dataframe tbody tr th {\n",
       "        vertical-align: top;\n",
       "    }\n",
       "\n",
       "    .dataframe thead th {\n",
       "        text-align: right;\n",
       "    }\n",
       "</style>\n",
       "<table border=\"1\" class=\"dataframe\">\n",
       "  <thead>\n",
       "    <tr style=\"text-align: right;\">\n",
       "      <th></th>\n",
       "      <th>drug arrest rate</th>\n",
       "      <th>indicator</th>\n",
       "    </tr>\n",
       "    <tr>\n",
       "      <th>COUNTY</th>\n",
       "      <th></th>\n",
       "      <th></th>\n",
       "    </tr>\n",
       "  </thead>\n",
       "  <tbody>\n",
       "    <tr>\n",
       "      <th>San Francisco County</th>\n",
       "      <td>873.961738</td>\n",
       "      <td>1</td>\n",
       "    </tr>\n",
       "    <tr>\n",
       "      <th>Mendocino County</th>\n",
       "      <td>599.799767</td>\n",
       "      <td>1</td>\n",
       "    </tr>\n",
       "    <tr>\n",
       "      <th>Tehama County</th>\n",
       "      <td>585.300555</td>\n",
       "      <td>1</td>\n",
       "    </tr>\n",
       "    <tr>\n",
       "      <th>Humboldt County</th>\n",
       "      <td>499.572904</td>\n",
       "      <td>1</td>\n",
       "    </tr>\n",
       "    <tr>\n",
       "      <th>Plumas County</th>\n",
       "      <td>492.429787</td>\n",
       "      <td>1</td>\n",
       "    </tr>\n",
       "  </tbody>\n",
       "</table>\n",
       "</div>"
      ],
      "text/plain": [
       "                      drug arrest rate  indicator\n",
       "COUNTY                                           \n",
       "San Francisco County        873.961738          1\n",
       "Mendocino County            599.799767          1\n",
       "Tehama County               585.300555          1\n",
       "Humboldt County             499.572904          1\n",
       "Plumas County               492.429787          1"
      ]
     },
     "execution_count": 14,
     "metadata": {},
     "output_type": "execute_result"
    }
   ],
   "source": [
    "avg_drug_arrest_rate['indicator'] = np.where(avg_drug_arrest_rate['drug arrest rate']\\\n",
    "                                             > median_avg_, 1, 0)\n",
    "avg_drug_arrest_rate.head()"
   ]
  },
  {
   "cell_type": "code",
   "execution_count": 52,
   "metadata": {},
   "outputs": [],
   "source": [
    "# make sure the indicator works as expected\n",
    "assert avg_drug_arrest_rate.indicator.sum() == avg_drug_arrest_rate.shape[0] / 2, \\\n",
    "    \"The indicator is not working as expected\""
   ]
  },
  {
   "attachments": {},
   "cell_type": "markdown",
   "metadata": {},
   "source": [
    "### Exercise 3\n",
    "Create a violent_rate variable with is violent arrests per 100,000 people."
   ]
  },
  {
   "cell_type": "code",
   "execution_count": 15,
   "metadata": {},
   "outputs": [
    {
     "data": {
      "text/html": [
       "<div>\n",
       "<style scoped>\n",
       "    .dataframe tbody tr th:only-of-type {\n",
       "        vertical-align: middle;\n",
       "    }\n",
       "\n",
       "    .dataframe tbody tr th {\n",
       "        vertical-align: top;\n",
       "    }\n",
       "\n",
       "    .dataframe thead th {\n",
       "        text-align: right;\n",
       "    }\n",
       "</style>\n",
       "<table border=\"1\" class=\"dataframe\">\n",
       "  <thead>\n",
       "    <tr style=\"text-align: right;\">\n",
       "      <th></th>\n",
       "      <th>YEAR</th>\n",
       "      <th>COUNTY</th>\n",
       "      <th>VIOLENT</th>\n",
       "      <th>F_DRUGOFF</th>\n",
       "      <th>total_population</th>\n",
       "      <th>violent_rate</th>\n",
       "    </tr>\n",
       "  </thead>\n",
       "  <tbody>\n",
       "    <tr>\n",
       "      <th>0</th>\n",
       "      <td>1980</td>\n",
       "      <td>Alameda County</td>\n",
       "      <td>4504</td>\n",
       "      <td>3569</td>\n",
       "      <td>1105379.0</td>\n",
       "      <td>407.462056</td>\n",
       "    </tr>\n",
       "    <tr>\n",
       "      <th>1</th>\n",
       "      <td>1981</td>\n",
       "      <td>Alameda County</td>\n",
       "      <td>4699</td>\n",
       "      <td>3926</td>\n",
       "      <td>1122759.3</td>\n",
       "      <td>418.522474</td>\n",
       "    </tr>\n",
       "    <tr>\n",
       "      <th>2</th>\n",
       "      <td>1982</td>\n",
       "      <td>Alameda County</td>\n",
       "      <td>4389</td>\n",
       "      <td>4436</td>\n",
       "      <td>1140139.6</td>\n",
       "      <td>384.952860</td>\n",
       "    </tr>\n",
       "    <tr>\n",
       "      <th>3</th>\n",
       "      <td>1983</td>\n",
       "      <td>Alameda County</td>\n",
       "      <td>4500</td>\n",
       "      <td>5086</td>\n",
       "      <td>1157519.9</td>\n",
       "      <td>388.762215</td>\n",
       "    </tr>\n",
       "    <tr>\n",
       "      <th>4</th>\n",
       "      <td>1984</td>\n",
       "      <td>Alameda County</td>\n",
       "      <td>3714</td>\n",
       "      <td>5878</td>\n",
       "      <td>1174900.2</td>\n",
       "      <td>316.111956</td>\n",
       "    </tr>\n",
       "  </tbody>\n",
       "</table>\n",
       "</div>"
      ],
      "text/plain": [
       "   YEAR          COUNTY  VIOLENT  F_DRUGOFF  total_population  violent_rate\n",
       "0  1980  Alameda County     4504       3569         1105379.0    407.462056\n",
       "1  1981  Alameda County     4699       3926         1122759.3    418.522474\n",
       "2  1982  Alameda County     4389       4436         1140139.6    384.952860\n",
       "3  1983  Alameda County     4500       5086         1157519.9    388.762215\n",
       "4  1984  Alameda County     3714       5878         1174900.2    316.111956"
      ]
     },
     "execution_count": 15,
     "metadata": {},
     "output_type": "execute_result"
    }
   ],
   "source": [
    "df['violent_rate'] = df['VIOLENT'] / df['total_population'] * 100000\n",
    "df.head()"
   ]
  },
  {
   "attachments": {},
   "cell_type": "markdown",
   "metadata": {},
   "source": [
    "### Exercise 4\n",
    "Difference-in-differences analysis"
   ]
  },
  {
   "cell_type": "code",
   "execution_count": 16,
   "metadata": {},
   "outputs": [
    {
     "data": {
      "text/html": [
       "<div>\n",
       "<style scoped>\n",
       "    .dataframe tbody tr th:only-of-type {\n",
       "        vertical-align: middle;\n",
       "    }\n",
       "\n",
       "    .dataframe tbody tr th {\n",
       "        vertical-align: top;\n",
       "    }\n",
       "\n",
       "    .dataframe thead th {\n",
       "        text-align: right;\n",
       "    }\n",
       "</style>\n",
       "<table border=\"1\" class=\"dataframe\">\n",
       "  <thead>\n",
       "    <tr style=\"text-align: right;\">\n",
       "      <th></th>\n",
       "      <th>YEAR</th>\n",
       "      <th>COUNTY</th>\n",
       "      <th>VIOLENT</th>\n",
       "      <th>F_DRUGOFF</th>\n",
       "      <th>total_population</th>\n",
       "      <th>violent_rate</th>\n",
       "      <th>drug arrest rate</th>\n",
       "      <th>indicator</th>\n",
       "      <th>post_2010</th>\n",
       "    </tr>\n",
       "  </thead>\n",
       "  <tbody>\n",
       "    <tr>\n",
       "      <th>0</th>\n",
       "      <td>1980</td>\n",
       "      <td>Alameda County</td>\n",
       "      <td>4504</td>\n",
       "      <td>3569</td>\n",
       "      <td>1105379.0</td>\n",
       "      <td>407.462056</td>\n",
       "      <td>394.457331</td>\n",
       "      <td>1</td>\n",
       "      <td>0</td>\n",
       "    </tr>\n",
       "    <tr>\n",
       "      <th>1</th>\n",
       "      <td>1981</td>\n",
       "      <td>Alameda County</td>\n",
       "      <td>4699</td>\n",
       "      <td>3926</td>\n",
       "      <td>1122759.3</td>\n",
       "      <td>418.522474</td>\n",
       "      <td>394.457331</td>\n",
       "      <td>1</td>\n",
       "      <td>0</td>\n",
       "    </tr>\n",
       "    <tr>\n",
       "      <th>2</th>\n",
       "      <td>1982</td>\n",
       "      <td>Alameda County</td>\n",
       "      <td>4389</td>\n",
       "      <td>4436</td>\n",
       "      <td>1140139.6</td>\n",
       "      <td>384.952860</td>\n",
       "      <td>394.457331</td>\n",
       "      <td>1</td>\n",
       "      <td>0</td>\n",
       "    </tr>\n",
       "    <tr>\n",
       "      <th>3</th>\n",
       "      <td>1983</td>\n",
       "      <td>Alameda County</td>\n",
       "      <td>4500</td>\n",
       "      <td>5086</td>\n",
       "      <td>1157519.9</td>\n",
       "      <td>388.762215</td>\n",
       "      <td>394.457331</td>\n",
       "      <td>1</td>\n",
       "      <td>0</td>\n",
       "    </tr>\n",
       "    <tr>\n",
       "      <th>4</th>\n",
       "      <td>1984</td>\n",
       "      <td>Alameda County</td>\n",
       "      <td>3714</td>\n",
       "      <td>5878</td>\n",
       "      <td>1174900.2</td>\n",
       "      <td>316.111956</td>\n",
       "      <td>394.457331</td>\n",
       "      <td>1</td>\n",
       "      <td>0</td>\n",
       "    </tr>\n",
       "  </tbody>\n",
       "</table>\n",
       "</div>"
      ],
      "text/plain": [
       "   YEAR          COUNTY  VIOLENT  F_DRUGOFF  total_population  violent_rate  \\\n",
       "0  1980  Alameda County     4504       3569         1105379.0    407.462056   \n",
       "1  1981  Alameda County     4699       3926         1122759.3    418.522474   \n",
       "2  1982  Alameda County     4389       4436         1140139.6    384.952860   \n",
       "3  1983  Alameda County     4500       5086         1157519.9    388.762215   \n",
       "4  1984  Alameda County     3714       5878         1174900.2    316.111956   \n",
       "\n",
       "   drug arrest rate  indicator  post_2010  \n",
       "0        394.457331          1          0  \n",
       "1        394.457331          1          0  \n",
       "2        394.457331          1          0  \n",
       "3        394.457331          1          0  \n",
       "4        394.457331          1          0  "
      ]
     },
     "execution_count": 16,
     "metadata": {},
     "output_type": "execute_result"
    }
   ],
   "source": [
    "# merge the two dataframes\n",
    "df_new = pd.merge(df, avg_drug_arrest_rate, left_on='COUNTY', right_index=True,\\\n",
    "                  indicator=True, how='outer',validate='m:1')\n",
    "assert (df_new._merge == \"both\").all()# check that the merge was successful\n",
    "df_new = df_new.drop(columns=['_merge'])\n",
    "\n",
    "# add an indicator for post_2010 on the original dataframe, to be used in exercise 5\n",
    "df_new['post_2010'] = np.where(df_new['YEAR'] >= 2010, 1, 0)\n",
    "df_new.head()"
   ]
  },
  {
   "cell_type": "code",
   "execution_count": 17,
   "metadata": {},
   "outputs": [],
   "source": [
    "years_to_keep = [2007, 2008, 2009, 2016, 2017, 2018]\n",
    "# subset to only inclde the years we want to keep\n",
    "df_new_sub = df_new.loc[df_new['YEAR'].isin(years_to_keep), :]\n",
    "treatment = df_new_sub.loc[df_new_sub['indicator'] == 1, :]\n",
    "control = df_new_sub.loc[df_new_sub['indicator'] == 0, :]"
   ]
  },
  {
   "attachments": {},
   "cell_type": "markdown",
   "metadata": {},
   "source": [
    " (a) Calculating the change in violent arrest rates for our treated groups from before legalization to after"
   ]
  },
  {
   "cell_type": "code",
   "execution_count": 18,
   "metadata": {},
   "outputs": [
    {
     "name": "stdout",
     "output_type": "stream",
     "text": [
      "The change in violent crime rate for treated counties is: -26.80\n"
     ]
    }
   ],
   "source": [
    "change_for_treated = treatment.loc[treatment['YEAR'] > 2009, 'violent_rate'].mean()\\\n",
    "      - treatment.loc[treatment['YEAR'] < 2010, 'violent_rate'].mean()\n",
    "print(f\"The change in violent crime rate for treated counties is:\\\n",
    "       {change_for_treated:.2f}\")"
   ]
  },
  {
   "attachments": {},
   "cell_type": "markdown",
   "metadata": {},
   "source": [
    "(b) Calculating difference in difference estimator"
   ]
  },
  {
   "cell_type": "code",
   "execution_count": 20,
   "metadata": {},
   "outputs": [
    {
     "name": "stdout",
     "output_type": "stream",
     "text": [
      "The change in violent crime rate for control counties is: -19.38\n"
     ]
    }
   ],
   "source": [
    "change_for_control = control.loc[control['YEAR'] > 2009, 'violent_rate'].mean() \\\n",
    "    - control.loc[control['YEAR'] < 2010, 'violent_rate'].mean()\n",
    "print(f\"The change in violent crime rate for control counties is: \\\n",
    "      {change_for_control:.2f}\")"
   ]
  },
  {
   "cell_type": "code",
   "execution_count": 21,
   "metadata": {},
   "outputs": [
    {
     "name": "stdout",
     "output_type": "stream",
     "text": [
      "The Diff in Diff is: -7.42\n"
     ]
    }
   ],
   "source": [
    "diff_in_diff = change_for_treated - change_for_control\n",
    "print(f\"The Diff in Diff is: {diff_in_diff:.2f}\")"
   ]
  },
  {
   "attachments": {},
   "cell_type": "markdown",
   "metadata": {},
   "source": [
    "- From pre-post analysis of the treatment group, we can see that the violent rate has decreased by 26.8 (per 100,000 people) after legalization, indicating that the legalization of marijuana is effective.\n",
    "- Results from Difference-in-difference analysis indicate that there was a decrease in violent crime rates in both the treated and control counties, but the decrease was greater in the treated counties. Specifically, the decrease in violent rate (per 100,000 people) of the treated counties was 7.42 percentage points greater than the decrease in the control counties, suggesting the legalization of marijuana has a positive effect on reducing violent crime rates. "
   ]
  },
  {
   "attachments": {},
   "cell_type": "markdown",
   "metadata": {},
   "source": [
    "### Exercise 5\n",
    "regressing violent rate on treated, post, and the interaction"
   ]
  },
  {
   "cell_type": "code",
   "execution_count": 22,
   "metadata": {},
   "outputs": [
    {
     "data": {
      "text/html": [
       "<table class=\"simpletable\">\n",
       "<caption>OLS Regression Results</caption>\n",
       "<tr>\n",
       "  <th>Dep. Variable:</th>      <td>violent_rate</td>   <th>  R-squared:         </th> <td>   0.221</td>\n",
       "</tr>\n",
       "<tr>\n",
       "  <th>Model:</th>                   <td>OLS</td>       <th>  Adj. R-squared:    </th> <td>   0.214</td>\n",
       "</tr>\n",
       "<tr>\n",
       "  <th>Method:</th>             <td>Least Squares</td>  <th>  F-statistic:       </th> <td>   11.00</td>\n",
       "</tr>\n",
       "<tr>\n",
       "  <th>Date:</th>             <td>Mon, 06 Mar 2023</td> <th>  Prob (F-statistic):</th> <td>8.45e-06</td>\n",
       "</tr>\n",
       "<tr>\n",
       "  <th>Time:</th>                 <td>20:34:05</td>     <th>  Log-Likelihood:    </th> <td> -2094.1</td>\n",
       "</tr>\n",
       "<tr>\n",
       "  <th>No. Observations:</th>      <td>   348</td>      <th>  AIC:               </th> <td>   4196.</td>\n",
       "</tr>\n",
       "<tr>\n",
       "  <th>Df Residuals:</th>          <td>   344</td>      <th>  BIC:               </th> <td>   4212.</td>\n",
       "</tr>\n",
       "<tr>\n",
       "  <th>Df Model:</th>              <td>     3</td>      <th>                     </th>     <td> </td>   \n",
       "</tr>\n",
       "<tr>\n",
       "  <th>Covariance Type:</th>       <td>cluster</td>     <th>                     </th>     <td> </td>   \n",
       "</tr>\n",
       "</table>\n",
       "<table class=\"simpletable\">\n",
       "<tr>\n",
       "           <td></td>              <th>coef</th>     <th>std err</th>      <th>t</th>      <th>P>|t|</th>  <th>[0.025</th>    <th>0.975]</th>  \n",
       "</tr>\n",
       "<tr>\n",
       "  <th>Intercept</th>           <td>  319.7820</td> <td>   17.638</td> <td>   18.131</td> <td> 0.000</td> <td>  284.463</td> <td>  355.101</td>\n",
       "</tr>\n",
       "<tr>\n",
       "  <th>indicator</th>           <td>  106.8289</td> <td>   23.385</td> <td>    4.568</td> <td> 0.000</td> <td>   60.001</td> <td>  153.657</td>\n",
       "</tr>\n",
       "<tr>\n",
       "  <th>post_2010</th>           <td>  -19.3816</td> <td>    9.892</td> <td>   -1.959</td> <td> 0.055</td> <td>  -39.189</td> <td>    0.426</td>\n",
       "</tr>\n",
       "<tr>\n",
       "  <th>indicator:post_2010</th> <td>   -7.4181</td> <td>   18.869</td> <td>   -0.393</td> <td> 0.696</td> <td>  -45.203</td> <td>   30.367</td>\n",
       "</tr>\n",
       "</table>\n",
       "<table class=\"simpletable\">\n",
       "<tr>\n",
       "  <th>Omnibus:</th>       <td>53.945</td> <th>  Durbin-Watson:     </th> <td>   0.741</td>\n",
       "</tr>\n",
       "<tr>\n",
       "  <th>Prob(Omnibus):</th> <td> 0.000</td> <th>  Jarque-Bera (JB):  </th> <td>  81.621</td>\n",
       "</tr>\n",
       "<tr>\n",
       "  <th>Skew:</th>          <td> 0.965</td> <th>  Prob(JB):          </th> <td>1.89e-18</td>\n",
       "</tr>\n",
       "<tr>\n",
       "  <th>Kurtosis:</th>      <td> 4.380</td> <th>  Cond. No.          </th> <td>    6.85</td>\n",
       "</tr>\n",
       "</table><br/><br/>Notes:<br/>[1] Standard Errors are robust to cluster correlation (cluster)"
      ],
      "text/plain": [
       "<class 'statsmodels.iolib.summary.Summary'>\n",
       "\"\"\"\n",
       "                            OLS Regression Results                            \n",
       "==============================================================================\n",
       "Dep. Variable:           violent_rate   R-squared:                       0.221\n",
       "Model:                            OLS   Adj. R-squared:                  0.214\n",
       "Method:                 Least Squares   F-statistic:                     11.00\n",
       "Date:                Mon, 06 Mar 2023   Prob (F-statistic):           8.45e-06\n",
       "Time:                        20:34:05   Log-Likelihood:                -2094.1\n",
       "No. Observations:                 348   AIC:                             4196.\n",
       "Df Residuals:                     344   BIC:                             4212.\n",
       "Df Model:                           3                                         \n",
       "Covariance Type:              cluster                                         \n",
       "=======================================================================================\n",
       "                          coef    std err          t      P>|t|      [0.025      0.975]\n",
       "---------------------------------------------------------------------------------------\n",
       "Intercept             319.7820     17.638     18.131      0.000     284.463     355.101\n",
       "indicator             106.8289     23.385      4.568      0.000      60.001     153.657\n",
       "post_2010             -19.3816      9.892     -1.959      0.055     -39.189       0.426\n",
       "indicator:post_2010    -7.4181     18.869     -0.393      0.696     -45.203      30.367\n",
       "==============================================================================\n",
       "Omnibus:                       53.945   Durbin-Watson:                   0.741\n",
       "Prob(Omnibus):                  0.000   Jarque-Bera (JB):               81.621\n",
       "Skew:                           0.965   Prob(JB):                     1.89e-18\n",
       "Kurtosis:                       4.380   Cond. No.                         6.85\n",
       "==============================================================================\n",
       "\n",
       "Notes:\n",
       "[1] Standard Errors are robust to cluster correlation (cluster)\n",
       "\"\"\""
      ]
     },
     "execution_count": 22,
     "metadata": {},
     "output_type": "execute_result"
    }
   ],
   "source": [
    "import statsmodels.formula.api as smf\n",
    "\n",
    "model = smf.ols(formula='violent_rate ~ indicator*post_2010', data=df_new_sub).fit()\n",
    "model.get_robustcov_results(cov_type='cluster', groups=df_new_sub['COUNTY']).summary()"
   ]
  },
  {
   "attachments": {},
   "cell_type": "markdown",
   "metadata": {},
   "source": [
    "- The coefficient on the interaction term is 7.42, which is the same as the difference-in-difference estimator we calculated in Exercise 4. This suggests that holding all other variables constant, the decrease in violent rate of treated coutries between pre and post legalization is 7.42 percentage points greater than the decrease in violent rate of control counties between pre and post legalization.\n",
    "- However, the p-value of the interaction term is 0.696 (>0.05), indicating it is not statistically significant. This suggests that the difference-in-difference could be due to chance."
   ]
  },
  {
   "attachments": {},
   "cell_type": "markdown",
   "metadata": {},
   "source": [
    "### Exercise 6\n",
    "plot a difference in difference model"
   ]
  },
  {
   "cell_type": "code",
   "execution_count": 48,
   "metadata": {},
   "outputs": [
    {
     "data": {
      "image/png": "[encoded data removed]",
      "text/plain": [
       "<Figure size 700x500 with 1 Axes>"
      ]
     },
     "metadata": {
      "image/png": {
       "height": 469,
       "width": 618
      }
     },
     "output_type": "display_data"
    }
   ],
   "source": [
    "df_pre = df_new.loc[(df_new['YEAR']>=2000)&(df_new['YEAR']<=2009), :]\n",
    "df_post = df_new.loc[(df_new['YEAR'].isin([2016, 2017, 2018])), :]\n",
    "# prepare data for plotting\n",
    "treatment_pre_plt = df_pre.loc[df_pre['indicator']==1, :].\\\n",
    "    groupby('YEAR')['violent_rate'].mean()\n",
    "treatment_post_plt = df_post.loc[df_post['indicator']==1, :].\\\n",
    "    groupby('YEAR')['violent_rate'].mean()\n",
    "control_pre_plt = df_pre.loc[df_pre['indicator']==0, :].\\\n",
    "    groupby('YEAR')['violent_rate'].mean()\n",
    "control_post_plt = df_post.loc[df_post['indicator']==0, :].\\\n",
    "    groupby('YEAR')['violent_rate'].mean()\n",
    "\n",
    "# start plotting\n",
    "plt.figure(figsize=(7,5))\n",
    "plt.grid('on')\n",
    "plt.plot(treatment_pre_plt.index, treatment_pre_plt.values,\\\n",
    "          marker='o', label='treatment', c='blue')\n",
    "plt.plot(treatment_post_plt.index, treatment_post_plt.values,\\\n",
    "          marker='o', c='blue')\n",
    "plt.plot(control_pre_plt.index, control_pre_plt.values, marker='v', \\\n",
    "         label='control', c='red')\n",
    "plt.plot(control_post_plt.index, control_post_plt.values, marker='v', \\\n",
    "         c='red')\n",
    "plt.vlines(2010, 300, 435, linestyles='dashed', colors='black')\n",
    "plt.xticks(np.arange(2000, 2020, 2))\n",
    "plt.text(2008.5, 440, 'Began drug legalization', fontsize=12)\n",
    "plt.xlabel('Year')\n",
    "plt.ylabel('Violent crime rate')\n",
    "plt.title('Violent crime rate by year and treatment status')\n",
    "plt.legend()\n",
    "plt.show()"
   ]
  },
  {
   "attachments": {},
   "cell_type": "markdown",
   "metadata": {},
   "source": [
    "Yes, there is parallel trend for these two datasets. This might impair the validity of the difference-in-difference estimator since both the treated and control counties are experiencing a decrease in violent rate, suggesting that there might be some other reasons that cause the decrease in violent rate instead of the legalization of marijuana."
   ]
  },
  {
   "attachments": {},
   "cell_type": "markdown",
   "metadata": {},
   "source": [
    "### Exercise 7\n",
    "running the regression with county and year as fixed effects"
   ]
  },
  {
   "cell_type": "code",
   "execution_count": 49,
   "metadata": {},
   "outputs": [
    {
     "data": {
      "text/html": [
       "<table class=\"simpletable\">\n",
       "<caption>PanelOLS Estimation Summary</caption>\n",
       "<tr>\n",
       "  <th>Dep. Variable:</th>      <td>violent_rate</td>   <th>  R-squared:         </th>    <td>0.0013</td> \n",
       "</tr>\n",
       "<tr>\n",
       "  <th>Estimator:</th>            <td>PanelOLS</td>     <th>  R-squared (Between):</th>   <td>-0.0109</td>\n",
       "</tr>\n",
       "<tr>\n",
       "  <th>No. Observations:</th>        <td>348</td>       <th>  R-squared (Within):</th>    <td>0.0155</td> \n",
       "</tr>\n",
       "<tr>\n",
       "  <th>Date:</th>             <td>Mon, Mar 06 2023</td> <th>  R-squared (Overall):</th>   <td>-0.0104</td>\n",
       "</tr>\n",
       "<tr>\n",
       "  <th>Time:</th>                 <td>20:44:30</td>     <th>  Log-likelihood     </th>    <td>-1858.7</td>\n",
       "</tr>\n",
       "<tr>\n",
       "  <th>Cov. Estimator:</th>      <td>Unadjusted</td>    <th>                     </th>       <td></td>    \n",
       "</tr>\n",
       "<tr>\n",
       "  <th></th>                          <td></td>         <th>  F-statistic:       </th>    <td>0.3829</td> \n",
       "</tr>\n",
       "<tr>\n",
       "  <th>Entities:</th>                <td>58</td>        <th>  P-value            </th>    <td>0.5366</td> \n",
       "</tr>\n",
       "<tr>\n",
       "  <th>Avg Obs:</th>               <td>6.0000</td>      <th>  Distribution:      </th>   <td>F(1,284)</td>\n",
       "</tr>\n",
       "<tr>\n",
       "  <th>Min Obs:</th>               <td>6.0000</td>      <th>                     </th>       <td></td>    \n",
       "</tr>\n",
       "<tr>\n",
       "  <th>Max Obs:</th>               <td>6.0000</td>      <th>  F-statistic (robust):</th>  <td>0.3829</td> \n",
       "</tr>\n",
       "<tr>\n",
       "  <th></th>                          <td></td>         <th>  P-value            </th>    <td>0.5366</td> \n",
       "</tr>\n",
       "<tr>\n",
       "  <th>Time periods:</th>             <td>6</td>        <th>  Distribution:      </th>   <td>F(1,284)</td>\n",
       "</tr>\n",
       "<tr>\n",
       "  <th>Avg Obs:</th>               <td>58.000</td>      <th>                     </th>       <td></td>    \n",
       "</tr>\n",
       "<tr>\n",
       "  <th>Min Obs:</th>               <td>58.000</td>      <th>                     </th>       <td></td>    \n",
       "</tr>\n",
       "<tr>\n",
       "  <th>Max Obs:</th>               <td>58.000</td>      <th>                     </th>       <td></td>    \n",
       "</tr>\n",
       "<tr>\n",
       "  <th></th>                          <td></td>         <th>                     </th>       <td></td>    \n",
       "</tr>\n",
       "</table>\n",
       "<table class=\"simpletable\">\n",
       "<caption>Parameter Estimates</caption>\n",
       "<tr>\n",
       "           <td></td>           <th>Parameter</th> <th>Std. Err.</th> <th>T-stat</th>  <th>P-value</th> <th>Lower CI</th> <th>Upper CI</th>\n",
       "</tr>\n",
       "<tr>\n",
       "  <th>indicator:post_2010</th>  <td>-7.4181</td>   <td>11.989</td>   <td>-0.6188</td> <td>0.5366</td>   <td>-31.016</td>  <td>16.180</td> \n",
       "</tr>\n",
       "</table><br/><br/>F-test for Poolability: 17.282<br/>P-value: 0.0000<br/>Distribution: F(62,284)<br/><br/>Included effects: Entity, Time"
      ],
      "text/plain": [
       "<class 'linearmodels.compat.statsmodels.Summary'>\n",
       "\"\"\"\n",
       "                          PanelOLS Estimation Summary                           \n",
       "================================================================================\n",
       "Dep. Variable:           violent_rate   R-squared:                        0.0013\n",
       "Estimator:                   PanelOLS   R-squared (Between):             -0.0109\n",
       "No. Observations:                 348   R-squared (Within):               0.0155\n",
       "Date:                Mon, Mar 06 2023   R-squared (Overall):             -0.0104\n",
       "Time:                        20:44:30   Log-likelihood                   -1858.7\n",
       "Cov. Estimator:            Unadjusted                                           \n",
       "                                        F-statistic:                      0.3829\n",
       "Entities:                          58   P-value                           0.5366\n",
       "Avg Obs:                       6.0000   Distribution:                   F(1,284)\n",
       "Min Obs:                       6.0000                                           \n",
       "Max Obs:                       6.0000   F-statistic (robust):             0.3829\n",
       "                                        P-value                           0.5366\n",
       "Time periods:                       6   Distribution:                   F(1,284)\n",
       "Avg Obs:                       58.000                                           \n",
       "Min Obs:                       58.000                                           \n",
       "Max Obs:                       58.000                                           \n",
       "                                                                                \n",
       "                                  Parameter Estimates                                  \n",
       "=======================================================================================\n",
       "                     Parameter  Std. Err.     T-stat    P-value    Lower CI    Upper CI\n",
       "---------------------------------------------------------------------------------------\n",
       "indicator:post_2010    -7.4181     11.989    -0.6188     0.5366     -31.016      16.180\n",
       "=======================================================================================\n",
       "\n",
       "F-test for Poolability: 17.282\n",
       "P-value: 0.0000\n",
       "Distribution: F(62,284)\n",
       "\n",
       "Included effects: Entity, Time\n",
       "\"\"\""
      ]
     },
     "execution_count": 49,
     "metadata": {},
     "output_type": "execute_result"
    }
   ],
   "source": [
    "from linearmodels import PanelOLS\n",
    "df_new_multiindex = df_new_sub.set_index(['COUNTY', 'YEAR'])\n",
    "mod = PanelOLS.from_formula('violent_rate ~ indicator*post_2010 '\n",
    "                            '+ TimeEffects + EntityEffects',\n",
    "                            data=df_new_multiindex,drop_absorbed=True).fit()\n",
    "mod.summary\n"
   ]
  },
  {
   "attachments": {},
   "cell_type": "markdown",
   "metadata": {},
   "source": [
    "- With all the additional fixed effects, there is no concrete evidence that marijuana legalization reduced violent crime. \n",
    "- Even thougth the coefficient of the interaction term is -7.42, indicating that the decrease in violent rate of treated counties is larger than the decrease in violent rate of control counties, the p-value of the interaction term is 0.5366 (>0.05), indicating it is not statistically significant. Therefore, we cannot reject the null hypothesis that the difference-in-difference estimator is zero."
   ]
  },
  {
   "cell_type": "markdown",
   "metadata": {},
   "source": []
  }
 ],
 "metadata": {
  "kernelspec": {
   "display_name": "base",
   "language": "python",
   "name": "python3"
  },
  "language_info": {
   "codemirror_mode": {
    "name": "ipython",
    "version": 3
   },
   "file_extension": ".py",
   "mimetype": "text/x-python",
   "name": "python",
   "nbconvert_exporter": "python",
   "pygments_lexer": "ipython3",
   "version": "3.10.6"
  },
  "orig_nbformat": 4,
  "vscode": {
   "interpreter": {
    "hash": "3d597f4c481aa0f25dceb95d2a0067e73c0966dcbd003d741d821a7208527ecf"
   }
  }
 },
 "nbformat": 4,
 "nbformat_minor": 2
}

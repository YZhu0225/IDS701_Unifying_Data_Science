{
 "cells": [
  {
   "attachments": {},
   "cell_type": "markdown",
   "metadata": {},
   "source": [
    "# A/B Testing and Udacity Website\n",
    "Yuanjing Zhu\\\n",
    "Netid: yz792"
   ]
  },
  {
   "cell_type": "code",
   "execution_count": 17,
   "metadata": {},
   "outputs": [],
   "source": [
    "import numpy as np\n",
    "import pandas as pd\n",
    "import matplotlib.pyplot as plt\n",
    "import seaborn as sns\n",
    "import warnings\n",
    "warnings.filterwarnings('ignore')"
   ]
  },
  {
   "attachments": {},
   "cell_type": "markdown",
   "metadata": {},
   "source": [
    "# Exercise 1: load the data"
   ]
  },
  {
   "cell_type": "code",
   "execution_count": 18,
   "metadata": {},
   "outputs": [],
   "source": [
    "df_treatment = pd.read_csv('https://github.com/nickeubank/MIDS_Data/blob/master'\n",
    "                           '/udacity_AB_testing/experiment_data.csv?raw=true')\n",
    "df_control = pd.read_csv('https://github.com/nickeubank/MIDS_Data/blob/master'\n",
    "                         '/udacity_AB_testing/control_data.csv?raw=true')"
   ]
  },
  {
   "attachments": {},
   "cell_type": "markdown",
   "metadata": {},
   "source": [
    "# Exercise 2: explore the data"
   ]
  },
  {
   "cell_type": "code",
   "execution_count": 19,
   "metadata": {},
   "outputs": [
    {
     "data": {
      "text/html": [
       "<div>\n",
       "<style scoped>\n",
       "    .dataframe tbody tr th:only-of-type {\n",
       "        vertical-align: middle;\n",
       "    }\n",
       "\n",
       "    .dataframe tbody tr th {\n",
       "        vertical-align: top;\n",
       "    }\n",
       "\n",
       "    .dataframe thead th {\n",
       "        text-align: right;\n",
       "    }\n",
       "</style>\n",
       "<table border=\"1\" class=\"dataframe\">\n",
       "  <thead>\n",
       "    <tr style=\"text-align: right;\">\n",
       "      <th></th>\n",
       "      <th>Date</th>\n",
       "      <th>Pageviews</th>\n",
       "      <th>Clicks</th>\n",
       "      <th>Enrollments</th>\n",
       "      <th>Payments</th>\n",
       "    </tr>\n",
       "  </thead>\n",
       "  <tbody>\n",
       "    <tr>\n",
       "      <th>4</th>\n",
       "      <td>Wed, Oct 15</td>\n",
       "      <td>9793</td>\n",
       "      <td>832</td>\n",
       "      <td>140.0</td>\n",
       "      <td>94.0</td>\n",
       "    </tr>\n",
       "    <tr>\n",
       "      <th>31</th>\n",
       "      <td>Tue, Nov 11</td>\n",
       "      <td>9931</td>\n",
       "      <td>831</td>\n",
       "      <td>NaN</td>\n",
       "      <td>NaN</td>\n",
       "    </tr>\n",
       "    <tr>\n",
       "      <th>5</th>\n",
       "      <td>Thu, Oct 16</td>\n",
       "      <td>9500</td>\n",
       "      <td>788</td>\n",
       "      <td>129.0</td>\n",
       "      <td>61.0</td>\n",
       "    </tr>\n",
       "    <tr>\n",
       "      <th>13</th>\n",
       "      <td>Fri, Oct 24</td>\n",
       "      <td>9402</td>\n",
       "      <td>697</td>\n",
       "      <td>194.0</td>\n",
       "      <td>94.0</td>\n",
       "    </tr>\n",
       "    <tr>\n",
       "      <th>27</th>\n",
       "      <td>Fri, Nov 7</td>\n",
       "      <td>9272</td>\n",
       "      <td>767</td>\n",
       "      <td>NaN</td>\n",
       "      <td>NaN</td>\n",
       "    </tr>\n",
       "  </tbody>\n",
       "</table>\n",
       "</div>"
      ],
      "text/plain": [
       "           Date  Pageviews  Clicks  Enrollments  Payments\n",
       "4   Wed, Oct 15       9793     832        140.0      94.0\n",
       "31  Tue, Nov 11       9931     831          NaN       NaN\n",
       "5   Thu, Oct 16       9500     788        129.0      61.0\n",
       "13  Fri, Oct 24       9402     697        194.0      94.0\n",
       "27   Fri, Nov 7       9272     767          NaN       NaN"
      ]
     },
     "execution_count": 19,
     "metadata": {},
     "output_type": "execute_result"
    }
   ],
   "source": [
    "df_treatment.sample(5)"
   ]
  },
  {
   "cell_type": "code",
   "execution_count": 20,
   "metadata": {},
   "outputs": [
    {
     "data": {
      "text/html": [
       "<div>\n",
       "<style scoped>\n",
       "    .dataframe tbody tr th:only-of-type {\n",
       "        vertical-align: middle;\n",
       "    }\n",
       "\n",
       "    .dataframe tbody tr th {\n",
       "        vertical-align: top;\n",
       "    }\n",
       "\n",
       "    .dataframe thead th {\n",
       "        text-align: right;\n",
       "    }\n",
       "</style>\n",
       "<table border=\"1\" class=\"dataframe\">\n",
       "  <thead>\n",
       "    <tr style=\"text-align: right;\">\n",
       "      <th></th>\n",
       "      <th>Date</th>\n",
       "      <th>Pageviews</th>\n",
       "      <th>Clicks</th>\n",
       "      <th>Enrollments</th>\n",
       "      <th>Payments</th>\n",
       "    </tr>\n",
       "  </thead>\n",
       "  <tbody>\n",
       "    <tr>\n",
       "      <th>20</th>\n",
       "      <td>Fri, Oct 31</td>\n",
       "      <td>8890</td>\n",
       "      <td>706</td>\n",
       "      <td>174.0</td>\n",
       "      <td>101.0</td>\n",
       "    </tr>\n",
       "    <tr>\n",
       "      <th>15</th>\n",
       "      <td>Sun, Oct 26</td>\n",
       "      <td>8896</td>\n",
       "      <td>708</td>\n",
       "      <td>161.0</td>\n",
       "      <td>104.0</td>\n",
       "    </tr>\n",
       "    <tr>\n",
       "      <th>35</th>\n",
       "      <td>Sat, Nov 15</td>\n",
       "      <td>8630</td>\n",
       "      <td>743</td>\n",
       "      <td>NaN</td>\n",
       "      <td>NaN</td>\n",
       "    </tr>\n",
       "    <tr>\n",
       "      <th>8</th>\n",
       "      <td>Sun, Oct 19</td>\n",
       "      <td>8459</td>\n",
       "      <td>691</td>\n",
       "      <td>131.0</td>\n",
       "      <td>60.0</td>\n",
       "    </tr>\n",
       "    <tr>\n",
       "      <th>34</th>\n",
       "      <td>Fri, Nov 14</td>\n",
       "      <td>9192</td>\n",
       "      <td>735</td>\n",
       "      <td>NaN</td>\n",
       "      <td>NaN</td>\n",
       "    </tr>\n",
       "  </tbody>\n",
       "</table>\n",
       "</div>"
      ],
      "text/plain": [
       "           Date  Pageviews  Clicks  Enrollments  Payments\n",
       "20  Fri, Oct 31       8890     706        174.0     101.0\n",
       "15  Sun, Oct 26       8896     708        161.0     104.0\n",
       "35  Sat, Nov 15       8630     743          NaN       NaN\n",
       "8   Sun, Oct 19       8459     691        131.0      60.0\n",
       "34  Fri, Nov 14       9192     735          NaN       NaN"
      ]
     },
     "execution_count": 20,
     "metadata": {},
     "output_type": "execute_result"
    }
   ],
   "source": [
    "df_control.sample(5)"
   ]
  },
  {
   "cell_type": "code",
   "execution_count": 21,
   "metadata": {},
   "outputs": [
    {
     "name": "stdout",
     "output_type": "stream",
     "text": [
      "The shape of the treatment dataframe is (37, 5).\n",
      "The shape of the control dataframe is (37, 5).\n"
     ]
    }
   ],
   "source": [
    "print(f\"The shape of the treatment dataframe is {df_treatment.shape}.\")\n",
    "print(f\"The shape of the control dataframe is {df_control.shape}.\")"
   ]
  },
  {
   "attachments": {},
   "cell_type": "markdown",
   "metadata": {},
   "source": [
    "Unit of observation: website traffic and payment information of Udacity website in a single day."
   ]
  },
  {
   "attachments": {},
   "cell_type": "markdown",
   "metadata": {},
   "source": [
    "# Exercise 3: stack into a single dataframe"
   ]
  },
  {
   "cell_type": "code",
   "execution_count": 22,
   "metadata": {},
   "outputs": [
    {
     "data": {
      "text/html": [
       "<div>\n",
       "<style scoped>\n",
       "    .dataframe tbody tr th:only-of-type {\n",
       "        vertical-align: middle;\n",
       "    }\n",
       "\n",
       "    .dataframe tbody tr th {\n",
       "        vertical-align: top;\n",
       "    }\n",
       "\n",
       "    .dataframe thead th {\n",
       "        text-align: right;\n",
       "    }\n",
       "</style>\n",
       "<table border=\"1\" class=\"dataframe\">\n",
       "  <thead>\n",
       "    <tr style=\"text-align: right;\">\n",
       "      <th></th>\n",
       "      <th>Date</th>\n",
       "      <th>Pageviews</th>\n",
       "      <th>Clicks</th>\n",
       "      <th>Enrollments</th>\n",
       "      <th>Payments</th>\n",
       "      <th>treatment</th>\n",
       "    </tr>\n",
       "  </thead>\n",
       "  <tbody>\n",
       "    <tr>\n",
       "      <th>0</th>\n",
       "      <td>Sat, Oct 11</td>\n",
       "      <td>7716</td>\n",
       "      <td>686</td>\n",
       "      <td>105.0</td>\n",
       "      <td>34.0</td>\n",
       "      <td>1</td>\n",
       "    </tr>\n",
       "    <tr>\n",
       "      <th>1</th>\n",
       "      <td>Sun, Oct 12</td>\n",
       "      <td>9288</td>\n",
       "      <td>785</td>\n",
       "      <td>116.0</td>\n",
       "      <td>91.0</td>\n",
       "      <td>1</td>\n",
       "    </tr>\n",
       "    <tr>\n",
       "      <th>2</th>\n",
       "      <td>Mon, Oct 13</td>\n",
       "      <td>10480</td>\n",
       "      <td>884</td>\n",
       "      <td>145.0</td>\n",
       "      <td>79.0</td>\n",
       "      <td>1</td>\n",
       "    </tr>\n",
       "    <tr>\n",
       "      <th>3</th>\n",
       "      <td>Tue, Oct 14</td>\n",
       "      <td>9867</td>\n",
       "      <td>827</td>\n",
       "      <td>138.0</td>\n",
       "      <td>92.0</td>\n",
       "      <td>1</td>\n",
       "    </tr>\n",
       "    <tr>\n",
       "      <th>4</th>\n",
       "      <td>Wed, Oct 15</td>\n",
       "      <td>9793</td>\n",
       "      <td>832</td>\n",
       "      <td>140.0</td>\n",
       "      <td>94.0</td>\n",
       "      <td>1</td>\n",
       "    </tr>\n",
       "  </tbody>\n",
       "</table>\n",
       "</div>"
      ],
      "text/plain": [
       "          Date  Pageviews  Clicks  Enrollments  Payments  treatment\n",
       "0  Sat, Oct 11       7716     686        105.0      34.0          1\n",
       "1  Sun, Oct 12       9288     785        116.0      91.0          1\n",
       "2  Mon, Oct 13      10480     884        145.0      79.0          1\n",
       "3  Tue, Oct 14       9867     827        138.0      92.0          1\n",
       "4  Wed, Oct 15       9793     832        140.0      94.0          1"
      ]
     },
     "execution_count": 22,
     "metadata": {},
     "output_type": "execute_result"
    }
   ],
   "source": [
    "df_treatment.loc[:,'treatment'] = 1\n",
    "df_control.loc[:,'treatment'] = 0\n",
    "df_all = pd.concat([df_treatment, df_control]).reset_index(drop=True)\n",
    "df_all.head()"
   ]
  },
  {
   "attachments": {},
   "cell_type": "markdown",
   "metadata": {},
   "source": [
    "# Exercise 4"
   ]
  },
  {
   "attachments": {},
   "cell_type": "markdown",
   "metadata": {},
   "source": [
    "-  What outcome are they hoping will be impacted by their manipulation? / What is your Overall Evaluation Criterion (OEC)?\n",
    "\n",
    "They are hoping to increase the percentage of students who enroll in the free trial, and ultimately buy and complete the course. \n",
    "\n",
    "Therefore, the OEC is **(enrollment-payment)/click counts**"
   ]
  },
  {
   "attachments": {},
   "cell_type": "markdown",
   "metadata": {},
   "source": [
    "# Exercise 5: Sanity Checks"
   ]
  },
  {
   "attachments": {},
   "cell_type": "markdown",
   "metadata": {},
   "source": [
    "- Given Udacity’s goals, what outcome are they hoping will not be impacted by their manipulation?\n",
    "\n",
    "1. **The number of pageviews**\n",
    "\n",
    "The number of pageviews should not be impacted by the manipulation, because the users view the page before they click on the \"Start free trial\" button and asked questions about time commitment.\n",
    "\n",
    "2. **The number of clicks on the \"Start free trial\" button**\n",
    "\n",
    "The number of clicks on the \"Start free trial\" button should not be impacted by the manipulation, because the question where the user is asked how much time they had available to devote to the course is asked after the user clicks on the \"Start free trial\" button."
   ]
  },
  {
   "attachments": {},
   "cell_type": "markdown",
   "metadata": {},
   "source": [
    "# Exercise 6: Calculate the average number of pageviews for the treated group and for the control group."
   ]
  },
  {
   "cell_type": "code",
   "execution_count": 23,
   "metadata": {},
   "outputs": [
    {
     "name": "stdout",
     "output_type": "stream",
     "text": [
      "The average number of pageviews for the treatment group is 9315.\n",
      "The average number of pageviews for the control group is 9339.\n"
     ]
    }
   ],
   "source": [
    "pageview_treatment = df_all.loc[df_all['treatment']==1, 'Pageviews']\n",
    "avg_pv_treatment = pageview_treatment.mean()\n",
    "pageview_control = df_all.loc[df_all['treatment']==0, 'Pageviews']\n",
    "avg_pv_control = pageview_control.mean()\n",
    "print(f\"The average number of pageviews for the treatment group is \\\n",
    "      {round(avg_pv_treatment)}.\")\n",
    "print(f\"The average number of pageviews for the control group is \\\n",
    "      {round(avg_pv_control)}.\")"
   ]
  },
  {
   "attachments": {},
   "cell_type": "markdown",
   "metadata": {},
   "source": [
    "The average number of pageviews for the treatment group is 9315, and the average number of pageviews for the control group is 9339, which **is very close to each other**.  "
   ]
  },
  {
   "attachments": {},
   "cell_type": "markdown",
   "metadata": {},
   "source": [
    "# Exercise 7: use a ttest to test the statistical significance of the differences"
   ]
  },
  {
   "cell_type": "code",
   "execution_count": 24,
   "metadata": {},
   "outputs": [
    {
     "name": "stdout",
     "output_type": "stream",
     "text": [
      "The p-value for the difference in pageviews between the treatment and control groups is 0.89.\n",
      "It is not statistically significant.\n"
     ]
    }
   ],
   "source": [
    "from scipy.stats import ttest_ind\n",
    "_, pvalue = ttest_ind(pageview_treatment, pageview_control)\n",
    "print(f\"The p-value for the difference in pageviews between \\\n",
    "      the treatment and control groups is {pvalue:.2f}.\")\n",
    "if pvalue < 0.05:\n",
    "    print(\"It is statistically significant.\")\n",
    "else:\n",
    "    print(\"It is not statistically significant.\")"
   ]
  },
  {
   "attachments": {},
   "cell_type": "markdown",
   "metadata": {},
   "source": [
    "The p-value from t-test is 0.89 (>0.05), which means that the difference in pageviews between the two groups is **not statistically significant**."
   ]
  },
  {
   "attachments": {},
   "cell_type": "markdown",
   "metadata": {},
   "source": [
    "# Exercise 8: What other measure is pre-treatment?"
   ]
  },
  {
   "attachments": {},
   "cell_type": "markdown",
   "metadata": {},
   "source": [
    "According to the description of the experiemnt and my answer to the question in Exercise 5, the number of clicks on the \"Start free trial\" button is another measure that is pre-treatment."
   ]
  },
  {
   "attachments": {},
   "cell_type": "markdown",
   "metadata": {},
   "source": [
    "# Exercise 9: Check if the other pre-treatment variable is also balanced."
   ]
  },
  {
   "cell_type": "code",
   "execution_count": 25,
   "metadata": {},
   "outputs": [
    {
     "name": "stdout",
     "output_type": "stream",
     "text": [
      "The p-value for the difference in clicks between the treatment and control groups is 0.93.\n",
      "It is not statistically significant.\n"
     ]
    }
   ],
   "source": [
    "_, pvalue = ttest_ind(df_all.loc[df_all['treatment']==1, 'Clicks'],\\\n",
    "                       df_all.loc[df_all['treatment']==0, 'Clicks'])\n",
    "print(f\"The p-value for the difference in clicks between the treatment \\\n",
    "      and control groups is {pvalue:.2f}.\")\n",
    "if pvalue < 0.05:\n",
    "    print(\"It is statistically significant.\")\n",
    "else:\n",
    "    print(\"It is not statistically significant.\")"
   ]
  },
  {
   "attachments": {},
   "cell_type": "markdown",
   "metadata": {},
   "source": [
    "Since the p-value from t-test is 0.93 (>0.05), the difference in the number of clicks on the \"Start free trial\" button between the two groups is **not statistically significant**."
   ]
  },
  {
   "attachments": {},
   "cell_type": "markdown",
   "metadata": {},
   "source": [
    "# Exercise 10: Test whether the OEC and the metric you don’t want affected have different average values in the control group and treatment group."
   ]
  },
  {
   "cell_type": "code",
   "execution_count": 26,
   "metadata": {},
   "outputs": [
    {
     "name": "stdout",
     "output_type": "stream",
     "text": [
      "(enrollment-payment)/click:\n",
      "The average difference between enrollment and payment per click for the treatment group is 0.09.\n",
      "The average difference between enrollment and payment per clickfor the control group is 0.1.\n",
      "The p-value for the difference in OEC between the treatment and control groups is 0.13.\n",
      "It is not statistically significant.\n"
     ]
    }
   ],
   "source": [
    "print(\"(enrollment-payment)/click:\")\n",
    "df_all['delta_per_click'] = (df_all['Enrollments'] - df_all['Payments'])\\\n",
    "      /df_all['Clicks']\n",
    "avg_delta_per_click_treatment = df_all.loc[df_all['treatment']==1, \\\n",
    "                                           'delta_per_click'].mean()\n",
    "avg_delta_per_click_control = df_all.loc[df_all['treatment']==0, \\\n",
    "                                         'delta_per_click'].mean()\n",
    "print(f\"The average difference between enrollment and payment per click \\\n",
    "      for the treatment group is {round(avg_delta_per_click_treatment, 2)}.\")\n",
    "print(f\"The average difference between enrollment and payment per click\\\n",
    "      for the control group is {round(avg_delta_per_click_control, 2)}.\")\n",
    "_, pvalue = ttest_ind(df_all.loc[df_all['treatment']==1, 'delta_per_click'], \\\n",
    "                      df_all.loc[df_all['treatment']==0, 'delta_per_click'],\\\n",
    "                        nan_policy='omit')\n",
    "print(f\"The p-value for the difference in OEC between the \\\n",
    "      treatment and control groups is {pvalue:.2f}.\")\n",
    "if pvalue < 0.05:\n",
    "    print(\"It is statistically significant.\")\n",
    "else:\n",
    "    print(\"It is not statistically significant.\")"
   ]
  },
  {
   "attachments": {},
   "cell_type": "markdown",
   "metadata": {},
   "source": [
    "NOTE: there are missing values in the column, I added \"nan_policy='omit'\" in the ttest_ind function to ignore them."
   ]
  },
  {
   "attachments": {},
   "cell_type": "markdown",
   "metadata": {},
   "source": [
    "The p-value of the difference between enrollment and payment per click is greater than 0.05, which means that the difference in the average values of the OEC between the two groups are **not statistically significant**. Therefore, Udacity **does not achieve their goal**."
   ]
  },
  {
   "attachments": {},
   "cell_type": "markdown",
   "metadata": {},
   "source": [
    "# Exercise 11: re-estimating the effect of treatment on OEC using a linear regression. "
   ]
  },
  {
   "cell_type": "code",
   "execution_count": 27,
   "metadata": {},
   "outputs": [
    {
     "name": "stdout",
     "output_type": "stream",
     "text": [
      "                            OLS Regression Results                            \n",
      "==============================================================================\n",
      "Dep. Variable:        delta_per_click   R-squared:                       0.051\n",
      "Model:                            OLS   Adj. R-squared:                  0.029\n",
      "Method:                 Least Squares   F-statistic:                     2.356\n",
      "Date:                Mon, 27 Mar 2023   Prob (F-statistic):              0.132\n",
      "Time:                        22:27:29   Log-Likelihood:                 89.832\n",
      "No. Observations:                  46   AIC:                            -175.7\n",
      "Df Residuals:                      44   BIC:                            -172.0\n",
      "Df Model:                           1                                         \n",
      "Covariance Type:            nonrobust                                         \n",
      "==============================================================================\n",
      "                 coef    std err          t      P>|t|      [0.025      0.975]\n",
      "------------------------------------------------------------------------------\n",
      "Intercept      0.1021      0.007     13.948      0.000       0.087       0.117\n",
      "treatment     -0.0159      0.010     -1.535      0.132      -0.037       0.005\n",
      "==============================================================================\n",
      "Omnibus:                       14.160   Durbin-Watson:                   1.805\n",
      "Prob(Omnibus):                  0.001   Jarque-Bera (JB):               15.205\n",
      "Skew:                           1.227   Prob(JB):                     0.000499\n",
      "Kurtosis:                       4.383   Cond. No.                         2.62\n",
      "==============================================================================\n",
      "\n",
      "Notes:\n",
      "[1] Standard Errors assume that the covariance matrix of the errors is correctly specified.\n"
     ]
    }
   ],
   "source": [
    "import statsmodels.formula.api as smf\n",
    "res = smf.ols(formula='delta_per_click ~ treatment', data=df_all)\n",
    "res.fit().summary()\n",
    "print(res)"
   ]
  },
  {
   "cell_type": "code",
   "execution_count": 28,
   "metadata": {},
   "outputs": [
    {
     "name": "stdout",
     "output_type": "stream",
     "text": [
      "p-value of treatment is 0.13\n"
     ]
    }
   ],
   "source": [
    "print(f\"p-value of treatment is {float(res.tables[1].data[2][4]):.2f}\")"
   ]
  },
  {
   "attachments": {},
   "cell_type": "markdown",
   "metadata": {},
   "source": [
    "Using a linear regression to estimate the effect of treatment on OEC, the p-value of the coefficient of the treatment group is 0.13 in 2 decimal places, which is the same as the p-value from t-test in Exercise 10."
   ]
  },
  {
   "attachments": {},
   "cell_type": "markdown",
   "metadata": {},
   "source": [
    "# Exercise 12: add indicator variables for the day of each observation."
   ]
  },
  {
   "cell_type": "code",
   "execution_count": 29,
   "metadata": {},
   "outputs": [
    {
     "data": {
      "text/html": [
       "<table class=\"simpletable\">\n",
       "<caption>OLS Regression Results</caption>\n",
       "<tr>\n",
       "  <th>Dep. Variable:</th>     <td>delta_per_click</td> <th>  R-squared:         </th> <td>   0.806</td>\n",
       "</tr>\n",
       "<tr>\n",
       "  <th>Model:</th>                   <td>OLS</td>       <th>  Adj. R-squared:    </th> <td>   0.602</td>\n",
       "</tr>\n",
       "<tr>\n",
       "  <th>Method:</th>             <td>Least Squares</td>  <th>  F-statistic:       </th> <td>   3.962</td>\n",
       "</tr>\n",
       "<tr>\n",
       "  <th>Date:</th>             <td>Mon, 27 Mar 2023</td> <th>  Prob (F-statistic):</th> <td>0.000978</td>\n",
       "</tr>\n",
       "<tr>\n",
       "  <th>Time:</th>                 <td>22:27:30</td>     <th>  Log-Likelihood:    </th> <td>  126.29</td>\n",
       "</tr>\n",
       "<tr>\n",
       "  <th>No. Observations:</th>      <td>    46</td>      <th>  AIC:               </th> <td>  -204.6</td>\n",
       "</tr>\n",
       "<tr>\n",
       "  <th>Df Residuals:</th>          <td>    22</td>      <th>  BIC:               </th> <td>  -160.7</td>\n",
       "</tr>\n",
       "<tr>\n",
       "  <th>Df Model:</th>              <td>    23</td>      <th>                     </th>     <td> </td>   \n",
       "</tr>\n",
       "<tr>\n",
       "  <th>Covariance Type:</th>      <td>nonrobust</td>    <th>                     </th>     <td> </td>   \n",
       "</tr>\n",
       "</table>\n",
       "<table class=\"simpletable\">\n",
       "<tr>\n",
       "           <td></td>              <th>coef</th>     <th>std err</th>      <th>t</th>      <th>P>|t|</th>  <th>[0.025</th>    <th>0.975]</th>  \n",
       "</tr>\n",
       "<tr>\n",
       "  <th>Intercept</th>           <td>    0.0978</td> <td>    0.004</td> <td>   21.790</td> <td> 0.000</td> <td>    0.089</td> <td>    0.107</td>\n",
       "</tr>\n",
       "<tr>\n",
       "  <th>Date[T.Fri, Nov 7]</th>  <td>-7.013e-17</td> <td> 9.83e-17</td> <td>   -0.714</td> <td> 0.483</td> <td>-2.74e-16</td> <td> 1.34e-16</td>\n",
       "</tr>\n",
       "<tr>\n",
       "  <th>Date[T.Fri, Oct 17]</th> <td>    0.0101</td> <td>    0.016</td> <td>    0.651</td> <td> 0.522</td> <td>   -0.022</td> <td>    0.042</td>\n",
       "</tr>\n",
       "<tr>\n",
       "  <th>Date[T.Fri, Oct 24]</th> <td>    0.0547</td> <td>    0.016</td> <td>    3.518</td> <td> 0.002</td> <td>    0.022</td> <td>    0.087</td>\n",
       "</tr>\n",
       "<tr>\n",
       "  <th>Date[T.Fri, Oct 31]</th> <td>    0.0027</td> <td>    0.016</td> <td>    0.172</td> <td> 0.865</td> <td>   -0.030</td> <td>    0.035</td>\n",
       "</tr>\n",
       "<tr>\n",
       "  <th>Date[T.Mon, Nov 10]</th> <td> 5.597e-18</td> <td> 1.95e-17</td> <td>    0.287</td> <td> 0.777</td> <td>-3.48e-17</td> <td>  4.6e-17</td>\n",
       "</tr>\n",
       "<tr>\n",
       "  <th>Date[T.Mon, Nov 3]</th>  <td> 3.508e-18</td> <td> 1.01e-17</td> <td>    0.347</td> <td> 0.732</td> <td>-1.75e-17</td> <td> 2.45e-17</td>\n",
       "</tr>\n",
       "<tr>\n",
       "  <th>Date[T.Mon, Oct 13]</th> <td>   -0.0129</td> <td>    0.016</td> <td>   -0.833</td> <td> 0.414</td> <td>   -0.045</td> <td>    0.019</td>\n",
       "</tr>\n",
       "<tr>\n",
       "  <th>Date[T.Mon, Oct 20]</th> <td>   -0.0184</td> <td>    0.016</td> <td>   -1.185</td> <td> 0.249</td> <td>   -0.051</td> <td>    0.014</td>\n",
       "</tr>\n",
       "<tr>\n",
       "  <th>Date[T.Mon, Oct 27]</th> <td>    0.0429</td> <td>    0.016</td> <td>    2.760</td> <td> 0.011</td> <td>    0.011</td> <td>    0.075</td>\n",
       "</tr>\n",
       "<tr>\n",
       "  <th>Date[T.Sat, Nov 1]</th>  <td>   -0.0134</td> <td>    0.016</td> <td>   -0.863</td> <td> 0.397</td> <td>   -0.046</td> <td>    0.019</td>\n",
       "</tr>\n",
       "<tr>\n",
       "  <th>Date[T.Sat, Nov 15]</th> <td> 1.322e-17</td> <td> 5.71e-18</td> <td>    2.318</td> <td> 0.030</td> <td> 1.39e-18</td> <td> 2.51e-17</td>\n",
       "</tr>\n",
       "<tr>\n",
       "  <th>Date[T.Sat, Nov 8]</th>  <td> 1.497e-17</td> <td> 9.58e-18</td> <td>    1.563</td> <td> 0.132</td> <td>-4.89e-18</td> <td> 3.48e-17</td>\n",
       "</tr>\n",
       "<tr>\n",
       "  <th>Date[T.Sat, Oct 11]</th> <td>    0.0084</td> <td>    0.016</td> <td>    0.543</td> <td> 0.592</td> <td>   -0.024</td> <td>    0.041</td>\n",
       "</tr>\n",
       "<tr>\n",
       "  <th>Date[T.Sat, Oct 18]</th> <td>   -0.0337</td> <td>    0.016</td> <td>   -2.169</td> <td> 0.041</td> <td>   -0.066</td> <td>   -0.001</td>\n",
       "</tr>\n",
       "<tr>\n",
       "  <th>Date[T.Sat, Oct 25]</th> <td>   -0.0208</td> <td>    0.016</td> <td>   -1.337</td> <td> 0.195</td> <td>   -0.053</td> <td>    0.011</td>\n",
       "</tr>\n",
       "<tr>\n",
       "  <th>Date[T.Sun, Nov 16]</th> <td> -1.22e-17</td> <td> 7.22e-18</td> <td>   -1.690</td> <td> 0.105</td> <td>-2.72e-17</td> <td> 2.77e-18</td>\n",
       "</tr>\n",
       "<tr>\n",
       "  <th>Date[T.Sun, Nov 2]</th>  <td>    0.0650</td> <td>    0.016</td> <td>    4.181</td> <td> 0.000</td> <td>    0.033</td> <td>    0.097</td>\n",
       "</tr>\n",
       "<tr>\n",
       "  <th>Date[T.Sun, Nov 9]</th>  <td>-4.789e-18</td> <td> 4.22e-18</td> <td>   -1.135</td> <td> 0.269</td> <td>-1.35e-17</td> <td> 3.96e-18</td>\n",
       "</tr>\n",
       "<tr>\n",
       "  <th>Date[T.Sun, Oct 12]</th> <td>   -0.0245</td> <td>    0.016</td> <td>   -1.579</td> <td> 0.129</td> <td>   -0.057</td> <td>    0.008</td>\n",
       "</tr>\n",
       "<tr>\n",
       "  <th>Date[T.Sun, Oct 19]</th> <td>   -0.0077</td> <td>    0.016</td> <td>   -0.493</td> <td> 0.627</td> <td>   -0.040</td> <td>    0.025</td>\n",
       "</tr>\n",
       "<tr>\n",
       "  <th>Date[T.Sun, Oct 26]</th> <td>   -0.0121</td> <td>    0.016</td> <td>   -0.779</td> <td> 0.444</td> <td>   -0.044</td> <td>    0.020</td>\n",
       "</tr>\n",
       "<tr>\n",
       "  <th>Date[T.Thu, Nov 13]</th> <td>  2.52e-17</td> <td> 8.36e-18</td> <td>    3.014</td> <td> 0.006</td> <td> 7.86e-18</td> <td> 4.25e-17</td>\n",
       "</tr>\n",
       "<tr>\n",
       "  <th>Date[T.Thu, Nov 6]</th>  <td>-9.574e-19</td> <td> 3.79e-18</td> <td>   -0.252</td> <td> 0.803</td> <td>-8.82e-18</td> <td> 6.91e-18</td>\n",
       "</tr>\n",
       "<tr>\n",
       "  <th>Date[T.Thu, Oct 16]</th> <td>   -0.0127</td> <td>    0.016</td> <td>   -0.818</td> <td> 0.422</td> <td>   -0.045</td> <td>    0.020</td>\n",
       "</tr>\n",
       "<tr>\n",
       "  <th>Date[T.Thu, Oct 23]</th> <td>    0.0056</td> <td>    0.016</td> <td>    0.358</td> <td> 0.724</td> <td>   -0.027</td> <td>    0.038</td>\n",
       "</tr>\n",
       "<tr>\n",
       "  <th>Date[T.Thu, Oct 30]</th> <td>    0.0689</td> <td>    0.016</td> <td>    4.437</td> <td> 0.000</td> <td>    0.037</td> <td>    0.101</td>\n",
       "</tr>\n",
       "<tr>\n",
       "  <th>Date[T.Tue, Nov 11]</th> <td> 3.248e-18</td> <td> 2.28e-18</td> <td>    1.423</td> <td> 0.169</td> <td>-1.49e-18</td> <td> 7.98e-18</td>\n",
       "</tr>\n",
       "<tr>\n",
       "  <th>Date[T.Tue, Nov 4]</th>  <td> 3.922e-18</td> <td> 2.97e-18</td> <td>    1.321</td> <td> 0.200</td> <td>-2.24e-18</td> <td> 1.01e-17</td>\n",
       "</tr>\n",
       "<tr>\n",
       "  <th>Date[T.Tue, Oct 14]</th> <td>   -0.0316</td> <td>    0.016</td> <td>   -2.032</td> <td> 0.054</td> <td>   -0.064</td> <td>    0.001</td>\n",
       "</tr>\n",
       "<tr>\n",
       "  <th>Date[T.Tue, Oct 21]</th> <td>    0.0043</td> <td>    0.016</td> <td>    0.274</td> <td> 0.786</td> <td>   -0.028</td> <td>    0.036</td>\n",
       "</tr>\n",
       "<tr>\n",
       "  <th>Date[T.Tue, Oct 28]</th> <td>   -0.0186</td> <td>    0.016</td> <td>   -1.194</td> <td> 0.245</td> <td>   -0.051</td> <td>    0.014</td>\n",
       "</tr>\n",
       "<tr>\n",
       "  <th>Date[T.Wed, Nov 12]</th> <td> 6.378e-19</td> <td> 1.03e-19</td> <td>    6.221</td> <td> 0.000</td> <td> 4.25e-19</td> <td>  8.5e-19</td>\n",
       "</tr>\n",
       "<tr>\n",
       "  <th>Date[T.Wed, Nov 5]</th>  <td>-4.428e-19</td> <td>  1.5e-19</td> <td>   -2.957</td> <td> 0.007</td> <td>-7.53e-19</td> <td>-1.32e-19</td>\n",
       "</tr>\n",
       "<tr>\n",
       "  <th>Date[T.Wed, Oct 15]</th> <td>   -0.0031</td> <td>    0.016</td> <td>   -0.200</td> <td> 0.844</td> <td>   -0.035</td> <td>    0.029</td>\n",
       "</tr>\n",
       "<tr>\n",
       "  <th>Date[T.Wed, Oct 22]</th> <td>   -0.0119</td> <td>    0.016</td> <td>   -0.767</td> <td> 0.451</td> <td>   -0.044</td> <td>    0.020</td>\n",
       "</tr>\n",
       "<tr>\n",
       "  <th>Date[T.Wed, Oct 29]</th> <td>    0.0568</td> <td>    0.016</td> <td>    3.652</td> <td> 0.001</td> <td>    0.025</td> <td>    0.089</td>\n",
       "</tr>\n",
       "<tr>\n",
       "  <th>treatment</th>           <td>   -0.0159</td> <td>    0.007</td> <td>   -2.398</td> <td> 0.025</td> <td>   -0.030</td> <td>   -0.002</td>\n",
       "</tr>\n",
       "</table>\n",
       "<table class=\"simpletable\">\n",
       "<tr>\n",
       "  <th>Omnibus:</th>       <td> 3.871</td> <th>  Durbin-Watson:     </th> <td>   1.863</td>\n",
       "</tr>\n",
       "<tr>\n",
       "  <th>Prob(Omnibus):</th> <td> 0.144</td> <th>  Jarque-Bera (JB):  </th> <td>   3.826</td>\n",
       "</tr>\n",
       "<tr>\n",
       "  <th>Skew:</th>          <td>-0.000</td> <th>  Prob(JB):          </th> <td>   0.148</td>\n",
       "</tr>\n",
       "<tr>\n",
       "  <th>Kurtosis:</th>      <td> 4.413</td> <th>  Cond. No.          </th> <td>8.53e+16</td>\n",
       "</tr>\n",
       "</table><br/><br/>Notes:<br/>[1] Standard Errors assume that the covariance matrix of the errors is correctly specified.<br/>[2] The smallest eigenvalue is 8.54e-33. This might indicate that there are<br/>strong multicollinearity problems or that the design matrix is singular."
      ],
      "text/plain": [
       "<class 'statsmodels.iolib.summary.Summary'>\n",
       "\"\"\"\n",
       "                            OLS Regression Results                            \n",
       "==============================================================================\n",
       "Dep. Variable:        delta_per_click   R-squared:                       0.806\n",
       "Model:                            OLS   Adj. R-squared:                  0.602\n",
       "Method:                 Least Squares   F-statistic:                     3.962\n",
       "Date:                Mon, 27 Mar 2023   Prob (F-statistic):           0.000978\n",
       "Time:                        22:27:30   Log-Likelihood:                 126.29\n",
       "No. Observations:                  46   AIC:                            -204.6\n",
       "Df Residuals:                      22   BIC:                            -160.7\n",
       "Df Model:                          23                                         \n",
       "Covariance Type:            nonrobust                                         \n",
       "=======================================================================================\n",
       "                          coef    std err          t      P>|t|      [0.025      0.975]\n",
       "---------------------------------------------------------------------------------------\n",
       "Intercept               0.0978      0.004     21.790      0.000       0.089       0.107\n",
       "Date[T.Fri, Nov 7]  -7.013e-17   9.83e-17     -0.714      0.483   -2.74e-16    1.34e-16\n",
       "Date[T.Fri, Oct 17]     0.0101      0.016      0.651      0.522      -0.022       0.042\n",
       "Date[T.Fri, Oct 24]     0.0547      0.016      3.518      0.002       0.022       0.087\n",
       "Date[T.Fri, Oct 31]     0.0027      0.016      0.172      0.865      -0.030       0.035\n",
       "Date[T.Mon, Nov 10]  5.597e-18   1.95e-17      0.287      0.777   -3.48e-17     4.6e-17\n",
       "Date[T.Mon, Nov 3]   3.508e-18   1.01e-17      0.347      0.732   -1.75e-17    2.45e-17\n",
       "Date[T.Mon, Oct 13]    -0.0129      0.016     -0.833      0.414      -0.045       0.019\n",
       "Date[T.Mon, Oct 20]    -0.0184      0.016     -1.185      0.249      -0.051       0.014\n",
       "Date[T.Mon, Oct 27]     0.0429      0.016      2.760      0.011       0.011       0.075\n",
       "Date[T.Sat, Nov 1]     -0.0134      0.016     -0.863      0.397      -0.046       0.019\n",
       "Date[T.Sat, Nov 15]  1.322e-17   5.71e-18      2.318      0.030    1.39e-18    2.51e-17\n",
       "Date[T.Sat, Nov 8]   1.497e-17   9.58e-18      1.563      0.132   -4.89e-18    3.48e-17\n",
       "Date[T.Sat, Oct 11]     0.0084      0.016      0.543      0.592      -0.024       0.041\n",
       "Date[T.Sat, Oct 18]    -0.0337      0.016     -2.169      0.041      -0.066      -0.001\n",
       "Date[T.Sat, Oct 25]    -0.0208      0.016     -1.337      0.195      -0.053       0.011\n",
       "Date[T.Sun, Nov 16]  -1.22e-17   7.22e-18     -1.690      0.105   -2.72e-17    2.77e-18\n",
       "Date[T.Sun, Nov 2]      0.0650      0.016      4.181      0.000       0.033       0.097\n",
       "Date[T.Sun, Nov 9]  -4.789e-18   4.22e-18     -1.135      0.269   -1.35e-17    3.96e-18\n",
       "Date[T.Sun, Oct 12]    -0.0245      0.016     -1.579      0.129      -0.057       0.008\n",
       "Date[T.Sun, Oct 19]    -0.0077      0.016     -0.493      0.627      -0.040       0.025\n",
       "Date[T.Sun, Oct 26]    -0.0121      0.016     -0.779      0.444      -0.044       0.020\n",
       "Date[T.Thu, Nov 13]   2.52e-17   8.36e-18      3.014      0.006    7.86e-18    4.25e-17\n",
       "Date[T.Thu, Nov 6]  -9.574e-19   3.79e-18     -0.252      0.803   -8.82e-18    6.91e-18\n",
       "Date[T.Thu, Oct 16]    -0.0127      0.016     -0.818      0.422      -0.045       0.020\n",
       "Date[T.Thu, Oct 23]     0.0056      0.016      0.358      0.724      -0.027       0.038\n",
       "Date[T.Thu, Oct 30]     0.0689      0.016      4.437      0.000       0.037       0.101\n",
       "Date[T.Tue, Nov 11]  3.248e-18   2.28e-18      1.423      0.169   -1.49e-18    7.98e-18\n",
       "Date[T.Tue, Nov 4]   3.922e-18   2.97e-18      1.321      0.200   -2.24e-18    1.01e-17\n",
       "Date[T.Tue, Oct 14]    -0.0316      0.016     -2.032      0.054      -0.064       0.001\n",
       "Date[T.Tue, Oct 21]     0.0043      0.016      0.274      0.786      -0.028       0.036\n",
       "Date[T.Tue, Oct 28]    -0.0186      0.016     -1.194      0.245      -0.051       0.014\n",
       "Date[T.Wed, Nov 12]  6.378e-19   1.03e-19      6.221      0.000    4.25e-19     8.5e-19\n",
       "Date[T.Wed, Nov 5]  -4.428e-19    1.5e-19     -2.957      0.007   -7.53e-19   -1.32e-19\n",
       "Date[T.Wed, Oct 15]    -0.0031      0.016     -0.200      0.844      -0.035       0.029\n",
       "Date[T.Wed, Oct 22]    -0.0119      0.016     -0.767      0.451      -0.044       0.020\n",
       "Date[T.Wed, Oct 29]     0.0568      0.016      3.652      0.001       0.025       0.089\n",
       "treatment              -0.0159      0.007     -2.398      0.025      -0.030      -0.002\n",
       "==============================================================================\n",
       "Omnibus:                        3.871   Durbin-Watson:                   1.863\n",
       "Prob(Omnibus):                  0.144   Jarque-Bera (JB):                3.826\n",
       "Skew:                          -0.000   Prob(JB):                        0.148\n",
       "Kurtosis:                       4.413   Cond. No.                     8.53e+16\n",
       "==============================================================================\n",
       "\n",
       "Notes:\n",
       "[1] Standard Errors assume that the covariance matrix of the errors is correctly specified.\n",
       "[2] The smallest eigenvalue is 8.54e-33. This might indicate that there are\n",
       "strong multicollinearity problems or that the design matrix is singular.\n",
       "\"\"\""
      ]
     },
     "execution_count": 29,
     "metadata": {},
     "output_type": "execute_result"
    }
   ],
   "source": [
    "res = smf.ols(formula='delta_per_click ~ treatment+Date', data=df_all)\n",
    "res.fit().summary()"
   ]
  },
  {
   "attachments": {},
   "cell_type": "markdown",
   "metadata": {},
   "source": [
    "The standard deviation after adding the variable for the day of each observation is 0.007, which is smaller than the standard deviation before adding the variable for the day of each observation (0.01). Therefore, the standard deviation of the residuals is **reduced**."
   ]
  },
  {
   "attachments": {},
   "cell_type": "markdown",
   "metadata": {},
   "source": [
    "# Exercise 13: Given your results, what would you tell Udacity about their trial?"
   ]
  },
  {
   "attachments": {},
   "cell_type": "markdown",
   "metadata": {},
   "source": [
    "From the results of regression, only regressing OEC on the treatment indicator doesn't seem to be statistically significant, but when we add the day of each observation as a variable, the p-value of the coefficient of the treatment group is 0.025 (<0.05), which suggests it is statistically significant. With current results, it's possible that the treatment alone did not have a significant effect on the outcome, but the effect may have been influenced by other factors. As a result, it may be worthwhile for Udacity to investigate further and consider other factors such as the sample size before making any significant decisions based on these results."
   ]
  },
  {
   "attachments": {},
   "cell_type": "markdown",
   "metadata": {},
   "source": [
    "# Exercise 14：add indicators for day of the week "
   ]
  },
  {
   "cell_type": "code",
   "execution_count": 30,
   "metadata": {},
   "outputs": [
    {
     "data": {
      "text/plain": [
       "Sat    12\n",
       "Sun    12\n",
       "Mon    10\n",
       "Tue    10\n",
       "Wed    10\n",
       "Thu    10\n",
       "Fri    10\n",
       "Name: Day_of_week, dtype: int64"
      ]
     },
     "execution_count": 30,
     "metadata": {},
     "output_type": "execute_result"
    }
   ],
   "source": [
    "df_all['Day_of_week'] = df_all['Date'].str[:3]\n",
    "df_all['Day_of_week'].value_counts()"
   ]
  },
  {
   "cell_type": "code",
   "execution_count": 31,
   "metadata": {},
   "outputs": [
    {
     "data": {
      "text/html": [
       "<table class=\"simpletable\">\n",
       "<caption>OLS Regression Results</caption>\n",
       "<tr>\n",
       "  <th>Dep. Variable:</th>     <td>delta_per_click</td> <th>  R-squared:         </th> <td>   0.215</td>\n",
       "</tr>\n",
       "<tr>\n",
       "  <th>Model:</th>                   <td>OLS</td>       <th>  Adj. R-squared:    </th> <td>   0.070</td>\n",
       "</tr>\n",
       "<tr>\n",
       "  <th>Method:</th>             <td>Least Squares</td>  <th>  F-statistic:       </th> <td>   1.487</td>\n",
       "</tr>\n",
       "<tr>\n",
       "  <th>Date:</th>             <td>Mon, 27 Mar 2023</td> <th>  Prob (F-statistic):</th>  <td> 0.201</td> \n",
       "</tr>\n",
       "<tr>\n",
       "  <th>Time:</th>                 <td>22:27:30</td>     <th>  Log-Likelihood:    </th> <td>  94.201</td>\n",
       "</tr>\n",
       "<tr>\n",
       "  <th>No. Observations:</th>      <td>    46</td>      <th>  AIC:               </th> <td>  -172.4</td>\n",
       "</tr>\n",
       "<tr>\n",
       "  <th>Df Residuals:</th>          <td>    38</td>      <th>  BIC:               </th> <td>  -157.8</td>\n",
       "</tr>\n",
       "<tr>\n",
       "  <th>Df Model:</th>              <td>     7</td>      <th>                     </th>     <td> </td>   \n",
       "</tr>\n",
       "<tr>\n",
       "  <th>Covariance Type:</th>      <td>nonrobust</td>    <th>                     </th>     <td> </td>   \n",
       "</tr>\n",
       "</table>\n",
       "<table class=\"simpletable\">\n",
       "<tr>\n",
       "           <td></td>             <th>coef</th>     <th>std err</th>      <th>t</th>      <th>P>|t|</th>  <th>[0.025</th>    <th>0.975]</th>  \n",
       "</tr>\n",
       "<tr>\n",
       "  <th>Intercept</th>          <td>    0.1203</td> <td>    0.015</td> <td>    8.070</td> <td> 0.000</td> <td>    0.090</td> <td>    0.150</td>\n",
       "</tr>\n",
       "<tr>\n",
       "  <th>Day_of_week[T.Mon]</th> <td>   -0.0186</td> <td>    0.020</td> <td>   -0.940</td> <td> 0.353</td> <td>   -0.059</td> <td>    0.021</td>\n",
       "</tr>\n",
       "<tr>\n",
       "  <th>Day_of_week[T.Sat]</th> <td>   -0.0373</td> <td>    0.019</td> <td>   -2.013</td> <td> 0.051</td> <td>   -0.075</td> <td>    0.000</td>\n",
       "</tr>\n",
       "<tr>\n",
       "  <th>Day_of_week[T.Sun]</th> <td>   -0.0173</td> <td>    0.019</td> <td>   -0.934</td> <td> 0.356</td> <td>   -0.055</td> <td>    0.020</td>\n",
       "</tr>\n",
       "<tr>\n",
       "  <th>Day_of_week[T.Thu]</th> <td>   -0.0019</td> <td>    0.020</td> <td>   -0.095</td> <td> 0.925</td> <td>   -0.042</td> <td>    0.038</td>\n",
       "</tr>\n",
       "<tr>\n",
       "  <th>Day_of_week[T.Tue]</th> <td>   -0.0378</td> <td>    0.020</td> <td>   -1.905</td> <td> 0.064</td> <td>   -0.078</td> <td>    0.002</td>\n",
       "</tr>\n",
       "<tr>\n",
       "  <th>Day_of_week[T.Wed]</th> <td>   -0.0086</td> <td>    0.020</td> <td>   -0.432</td> <td> 0.668</td> <td>   -0.049</td> <td>    0.032</td>\n",
       "</tr>\n",
       "<tr>\n",
       "  <th>treatment</th>          <td>   -0.0159</td> <td>    0.010</td> <td>   -1.569</td> <td> 0.125</td> <td>   -0.036</td> <td>    0.005</td>\n",
       "</tr>\n",
       "</table>\n",
       "<table class=\"simpletable\">\n",
       "<tr>\n",
       "  <th>Omnibus:</th>       <td>12.955</td> <th>  Durbin-Watson:     </th> <td>   1.665</td>\n",
       "</tr>\n",
       "<tr>\n",
       "  <th>Prob(Omnibus):</th> <td> 0.002</td> <th>  Jarque-Bera (JB):  </th> <td>  13.612</td>\n",
       "</tr>\n",
       "<tr>\n",
       "  <th>Skew:</th>          <td> 1.110</td> <th>  Prob(JB):          </th> <td> 0.00111</td>\n",
       "</tr>\n",
       "<tr>\n",
       "  <th>Kurtosis:</th>      <td> 4.474</td> <th>  Cond. No.          </th> <td>    9.27</td>\n",
       "</tr>\n",
       "</table><br/><br/>Notes:<br/>[1] Standard Errors assume that the covariance matrix of the errors is correctly specified."
      ],
      "text/plain": [
       "<class 'statsmodels.iolib.summary.Summary'>\n",
       "\"\"\"\n",
       "                            OLS Regression Results                            \n",
       "==============================================================================\n",
       "Dep. Variable:        delta_per_click   R-squared:                       0.215\n",
       "Model:                            OLS   Adj. R-squared:                  0.070\n",
       "Method:                 Least Squares   F-statistic:                     1.487\n",
       "Date:                Mon, 27 Mar 2023   Prob (F-statistic):              0.201\n",
       "Time:                        22:27:30   Log-Likelihood:                 94.201\n",
       "No. Observations:                  46   AIC:                            -172.4\n",
       "Df Residuals:                      38   BIC:                            -157.8\n",
       "Df Model:                           7                                         \n",
       "Covariance Type:            nonrobust                                         \n",
       "======================================================================================\n",
       "                         coef    std err          t      P>|t|      [0.025      0.975]\n",
       "--------------------------------------------------------------------------------------\n",
       "Intercept              0.1203      0.015      8.070      0.000       0.090       0.150\n",
       "Day_of_week[T.Mon]    -0.0186      0.020     -0.940      0.353      -0.059       0.021\n",
       "Day_of_week[T.Sat]    -0.0373      0.019     -2.013      0.051      -0.075       0.000\n",
       "Day_of_week[T.Sun]    -0.0173      0.019     -0.934      0.356      -0.055       0.020\n",
       "Day_of_week[T.Thu]    -0.0019      0.020     -0.095      0.925      -0.042       0.038\n",
       "Day_of_week[T.Tue]    -0.0378      0.020     -1.905      0.064      -0.078       0.002\n",
       "Day_of_week[T.Wed]    -0.0086      0.020     -0.432      0.668      -0.049       0.032\n",
       "treatment             -0.0159      0.010     -1.569      0.125      -0.036       0.005\n",
       "==============================================================================\n",
       "Omnibus:                       12.955   Durbin-Watson:                   1.665\n",
       "Prob(Omnibus):                  0.002   Jarque-Bera (JB):               13.612\n",
       "Skew:                           1.110   Prob(JB):                      0.00111\n",
       "Kurtosis:                       4.474   Cond. No.                         9.27\n",
       "==============================================================================\n",
       "\n",
       "Notes:\n",
       "[1] Standard Errors assume that the covariance matrix of the errors is correctly specified.\n",
       "\"\"\""
      ]
     },
     "execution_count": 31,
     "metadata": {},
     "output_type": "execute_result"
    }
   ],
   "source": [
    "smf.ols(formula='delta_per_click ~ treatment+Day_of_week',\\\n",
    "         data=df_all).fit().summary()"
   ]
  },
  {
   "attachments": {},
   "cell_type": "markdown",
   "metadata": {},
   "source": [
    "After adding the indicator variables for the day of the week, the coefficient of treatment is -0.0159, and the standard deviation of the residuals is 0.01, which are the same as the results of the origianl regression with only treatment variable. However, the p-value of this model is 0.125, indicating that the coefficient of treatment is not statistically significant, which is different from the results of last model. This might mean that the impact of the treatment on OEC may have been dependent on the day of the week, and Udacity needs to further investigate this."
   ]
  },
  {
   "cell_type": "code",
   "execution_count": null,
   "metadata": {},
   "outputs": [],
   "source": []
  }
 ],
 "metadata": {
  "kernelspec": {
   "display_name": "base",
   "language": "python",
   "name": "python3"
  },
  "language_info": {
   "codemirror_mode": {
    "name": "ipython",
    "version": 3
   },
   "file_extension": ".py",
   "mimetype": "text/x-python",
   "name": "python",
   "nbconvert_exporter": "python",
   "pygments_lexer": "ipython3",
   "version": "3.10.6"
  },
  "orig_nbformat": 4
 },
 "nbformat": 4,
 "nbformat_minor": 2
}
